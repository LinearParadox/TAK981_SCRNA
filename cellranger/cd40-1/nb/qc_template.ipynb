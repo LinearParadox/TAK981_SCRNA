{
 "cells": [
  {
   "cell_type": "code",
   "execution_count": null,
   "id": "6bb3535a-7773-446c-b8f4-8edf64350a38",
   "metadata": {},
   "outputs": [],
   "source": []
  }
 ],
 "metadata": {
  "kernelspec": {
   "display_name": "Python [conda env:cellbender]",
   "language": "python",
   "name": "conda-env-cellbender-py"
  },
  "language_info": {
   "codemirror_mode": {
    "name": "ipython",
    "version": 3
   },
   "file_extension": ".py",
   "mimetype": "text/x-python",
   "name": "python",
   "nbconvert_exporter": "python",
   "pygments_lexer": "ipython3",
   "version": "3.7.16"
  }
 },
 "nbformat": 4,
 "nbformat_minor": 5
}
