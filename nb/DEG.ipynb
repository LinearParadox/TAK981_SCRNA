{
 "cells": [
  {
   "cell_type": "code",
   "id": "9e0ec64c-cbbc-476e-b3fb-c9bf9dc548f2",
   "metadata": {
    "ExecuteTime": {
     "end_time": "2024-10-24T05:18:45.386534Z",
     "start_time": "2024-10-24T05:18:45.381883Z"
    }
   },
   "source": [
    "import scanpy as sc\n",
    "import rpy2\n",
    "import os\n",
    "import pandas as pd\n",
    "import rpy2.robjects as ro\n",
    "from rpy2.robjects.packages import importr\n",
    "\n",
    "\n",
    "from rpy2.robjects import pandas2ri\n",
    "os.chdir(\"/data\")\n",
    "%load_ext rpy2.ipython\n",
    "\n",
    "\n",
    "\n",
    "\n"
   ],
   "outputs": [
    {
     "name": "stdout",
     "output_type": "stream",
     "text": [
      "The rpy2.ipython extension is already loaded. To reload it, use:\n",
      "  %reload_ext rpy2.ipython\n"
     ]
    }
   ],
   "execution_count": 3
  },
  {
   "cell_type": "code",
   "execution_count": 2,
   "id": "f55660e8-ce68-4a8b-b692-49dc9bab39b1",
   "metadata": {},
   "outputs": [],
   "source": "#adata=sc.read_h5ad(\"h5ad/batch_corrected.h5ad\")"
  },
  {
   "cell_type": "code",
   "execution_count": 3,
   "id": "1644fac9-1b94-4d71-b164-5684b04e0f33",
   "metadata": {},
   "outputs": [],
   "source": "#adata=adata.raw.to_adata()"
  },
  {
   "cell_type": "code",
   "execution_count": 4,
   "id": "9149dd73-03e6-4ee6-9410-45e3c889c6c3",
   "metadata": {},
   "outputs": [
    {
     "data": {
      "text/plain": [
       "GACGCTGTCGGCTATA-1-cd40-1     True\n",
       "ATCTCTACAGCGTAGA-1-cd40-1     True\n",
       "CGGAACCTCCCGAGAC-1-cd40-1     True\n",
       "GTAACACCAACAGTGG-1-cd40-1     True\n",
       "TTAGGCAAGATGATTG-1-cd40-1     True\n",
       "                             ...  \n",
       "TCCCACATCAATGTCG-1-tak-2     False\n",
       "GTTAGACTCAGACATC-1-tak-2     False\n",
       "CAGATACAGCCTCATA-1-tak-2     False\n",
       "CAGCGTGAGAATTTGG-1-tak-2     False\n",
       "GAAGAATGTTGGCTAT-1-tak-2     False\n",
       "Name: annot, Length: 124639, dtype: bool"
      ]
     },
     "execution_count": 4,
     "metadata": {},
     "output_type": "execute_result"
    }
   ],
   "source": "#adata.obs.annot.isin([\"Macrophages\", \"T Cells\", \"Epithelial\"])"
  },
  {
   "cell_type": "code",
   "execution_count": 5,
   "id": "454755e5-515b-4d51-8e5c-abe16fa3145c",
   "metadata": {},
   "outputs": [],
   "source": [
    "test=sc.get.aggregate(adata, by=[\"sample_id\", \"annot\", \"condition\"], func=\"sum\", mask=adata.obs.annot.isin([\"Macrophages\", \"T Cells\", \"Epithelial\"]))"
   ]
  },
  {
   "cell_type": "code",
   "execution_count": null,
   "id": "f40c6a31-23b1-42a1-a8eb-a88fd04f5312",
   "metadata": {},
   "outputs": [],
   "source": [
    "test=test.obs[test.annot.isin([\"Macrophages\", \"T Cells\", \"Epithelial\"])]"
   ]
  },
  {
   "cell_type": "code",
   "execution_count": 7,
   "id": "4fda753b-2bca-4f6b-88e0-3765147bafd5",
   "metadata": {},
   "outputs": [],
   "source": [
    "test_df = pd.DataFrame(test.layers[\"sum\"].T, columns=test.obs.index, index = test.var.index)"
   ]
  },
  {
   "cell_type": "code",
   "execution_count": 20,
   "id": "ca7346dc-b9a5-4f1f-8ab1-5f05a9215f75",
   "metadata": {
    "scrolled": true
   },
   "outputs": [],
   "source": [
    "%%R -i exp_df,coldata\n",
    "library(edgeR)\n",
    "library(dplyr)\n",
    "coldata$annot <- replace(as.character(coldata$annot), coldata$annot == \"T Cells\", \"T_Cells\")\n",
    "group <- factor(paste(coldata$condition, coldata$annot, sep=\".\"))\n",
    "coldata <- cbind(coldata, group)\n",
    "y <- DGEList(exp_df)\n",
    "y$group <- coldata$group\n",
    "keep <- filterByExpr(y)\n",
    "y <- y[keep,keep.lib.sizes=FALSE]\n",
    "y <- calcNormFactors(y)\n",
    "design <- model.matrix(~0+group , data=coldata)\n",
    "colnames(design) <- levels(group)\n",
    "my.contrasts <- makeContrasts(\n",
    "    epithelial.takvsctrl = tak.Epithelial - ctrl.Epithelial,\n",
    "    epithelial.cd40vsctrl = cd40.Epithelial - ctrl.Epithelial,\n",
    "    epithelial.combovsctrl = combo.Epithelial - ctrl.Epithelial,\n",
    "    epithelial.takvscd40 = tak.Epithelial - cd40.Epithelial,\n",
    "    epithelial.combovscd40 = combo.Epithelial - cd40.Epithelial,\n",
    "    epithelial.combovstak = combo.Epithelial - tak.Epithelial,\n",
    "    epithelial.takvscd40 = tak.Epithelial - cd40.Epithelial,\n",
    "    macrophages.takvsctrl = tak.Macrophages - ctrl.Macrophages,\n",
    "    macrophages.cd40vsctrl = cd40.Macrophages - ctrl.Macrophages,\n",
    "    macrophages.combovsctrl = combo.Macrophages - ctrl.Macrophages,\n",
    "    macrophages.takvscd40 = tak.Macrophages - cd40.Macrophages,\n",
    "    macrophages.combovscd40 = combo.Macrophages - cd40.Macrophages,\n",
    "    macrophages.combovstak = combo.Macrophages - tak.Macrophages,\n",
    "    macrophages.takvscd40 = tak.Macrophages - cd40.Macrophages,\n",
    "    tcells.takvsctrl = tak.T_Cells - ctrl.T_Cells,\n",
    "    tcells.cd40vsctrl = cd40.T_Cells - ctrl.T_Cells,\n",
    "    tcells.combovsctrl = combo.T_Cells - ctrl.T_Cells,\n",
    "    tcells.takvscd40 = tak.T_Cells - cd40.T_Cells,\n",
    "    tcells.combovscd40 = combo.T_Cells - cd40.T_Cells,\n",
    "    tcells.combovstak = combo.T_Cells - tak.T_Cells,\n",
    "    tcells.takvscd40 = tak.T_Cells - cd40.T_Cells, levels=design)\n",
    "y <- estimateDisp(y, design, robust=TRUE)\n",
    "fit <- glmQLFit(y, design, robust=TRUE)\n",
    "qlf <- glmQLFTest(fit, contrast=my.contrasts)\n",
    "for (i in colnames(my.contrasts)){\n",
    "    qlf <- glmQLFTest(fit, contrast=my.contrasts[,i])\n",
    "    test<-topTags(qlf, n=Inf)\n",
    "    write.csv(test$table, paste0(\"/data/csv/de/\", i, \".csv\"))}"
   ]
  }
 ],
 "metadata": {
  "kernelspec": {
   "display_name": "Python 3 (ipykernel)",
   "language": "python",
   "name": "python3"
  },
  "language_info": {
   "codemirror_mode": {
    "name": "ipython",
    "version": 3
   },
   "file_extension": ".py",
   "mimetype": "text/x-python",
   "name": "python",
   "nbconvert_exporter": "python",
   "pygments_lexer": "ipython3",
   "version": "3.10.13"
  }
 },
 "nbformat": 4,
 "nbformat_minor": 5
}
