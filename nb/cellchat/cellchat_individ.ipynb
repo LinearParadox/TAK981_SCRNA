{
 "cells": [
  {
   "cell_type": "code",
<<<<<<< HEAD
   "execution_count": 5,
   "id": "7f8efb9f-c273-4bb2-9b92-8916bc20a26e",
   "metadata": {},
   "outputs": [],
=======
   "execution_count": 1,
   "id": "7f8efb9f-c273-4bb2-9b92-8916bc20a26e",
   "metadata": {},
   "outputs": [
    {
     "name": "stderr",
     "output_type": "stream",
     "text": [
      "Loading required package: SeuratObject\n",
      "\n",
      "Loading required package: sp\n",
      "\n",
      "\n",
      "Attaching package: ‘SeuratObject’\n",
      "\n",
      "\n",
      "The following objects are masked from ‘package:base’:\n",
      "\n",
      "    intersect, t\n",
      "\n",
      "\n",
      "Loading required package: dplyr\n",
      "\n",
      "\n",
      "Attaching package: ‘dplyr’\n",
      "\n",
      "\n",
      "The following objects are masked from ‘package:stats’:\n",
      "\n",
      "    filter, lag\n",
      "\n",
      "\n",
      "The following objects are masked from ‘package:base’:\n",
      "\n",
      "    intersect, setdiff, setequal, union\n",
      "\n",
      "\n",
      "Loading required package: igraph\n",
      "\n",
      "\n",
      "Attaching package: ‘igraph’\n",
      "\n",
      "\n",
      "The following objects are masked from ‘package:dplyr’:\n",
      "\n",
      "    as_data_frame, groups, union\n",
      "\n",
      "\n",
      "The following object is masked from ‘package:Seurat’:\n",
      "\n",
      "    components\n",
      "\n",
      "\n",
      "The following objects are masked from ‘package:stats’:\n",
      "\n",
      "    decompose, spectrum\n",
      "\n",
      "\n",
      "The following object is masked from ‘package:base’:\n",
      "\n",
      "    union\n",
      "\n",
      "\n"
     ]
    }
   ],
>>>>>>> fab3f6bb655aedc8f5f66436b10ac6c834c3f009
   "source": [
    "library(Seurat)\n",
    "library(ggplot2)\n",
    "library(CellChat)\n",
    "library(BiocParallel)\n",
<<<<<<< HEAD
    "setwd(\"/data/TAK_981\")"
=======
    "setwd(\"/data/TAK981_SCRNA/\")"
>>>>>>> fab3f6bb655aedc8f5f66436b10ac6c834c3f009
   ]
  },
  {
   "cell_type": "code",
<<<<<<< HEAD
   "execution_count": 6,
=======
   "execution_count": 2,
>>>>>>> fab3f6bb655aedc8f5f66436b10ac6c834c3f009
   "id": "843e5301-8b9c-4ee9-bc06-e0f61f1045b2",
   "metadata": {},
   "outputs": [],
   "source": [
    "adata <-schard::h5ad2seurat('h5ad/batch_corrected.h5ad', use.raw = TRUE)\n"
   ]
  },
  {
   "cell_type": "code",
<<<<<<< HEAD
   "execution_count": 7,
=======
   "execution_count": 3,
>>>>>>> fab3f6bb655aedc8f5f66436b10ac6c834c3f009
   "id": "a95d7cad-d958-489f-b37d-8ff5eb46e8c7",
   "metadata": {},
   "outputs": [],
   "source": [
    "Idents(adata) <- \"annot\"\n",
    "adata <- subset(adata, idents = c(\"Acinar\", \"B Cells\", \"RBC\"), invert=TRUE)"
   ]
  },
  {
   "cell_type": "code",
<<<<<<< HEAD
   "execution_count": 8,
=======
   "execution_count": 4,
>>>>>>> fab3f6bb655aedc8f5f66436b10ac6c834c3f009
   "id": "ee68edae-f9eb-403e-9703-205269febc53",
   "metadata": {},
   "outputs": [],
   "source": [
    "cond<-SplitObject(adata, split.by = \"condition\")"
   ]
  },
  {
   "cell_type": "code",
<<<<<<< HEAD
   "execution_count": 9,
=======
   "execution_count": 5,
>>>>>>> fab3f6bb655aedc8f5f66436b10ac6c834c3f009
   "id": "ed7c4dfb-33f3-48a8-bb3c-f54266a38952",
   "metadata": {},
   "outputs": [],
   "source": [
    "runCellChat <- function(subset_ad){\n",
    "    assay <- GetAssayData(subset_ad, assay = \"RNA\", slot = \"counts\")\n",
    "    assay <- normalizeData(assay)\n",
    "    Idents(subset_ad) <- \"annot\"\n",
    "    labels <- Idents(subset_ad)\n",
    "    meta <- subset_ad[[]]\n",
    "    meta$samples <- meta$sample_id\n",
    "    meta$labels <- meta$annot\n",
    "    rm(subset_ad)\n",
    "    cellchat <- createCellChat(object = assay, group.by = \"annot\", meta=meta)\n",
    "    CellChatDB <- CellChatDB.mouse\n",
    "    CellChatDB.use <- subsetDB(CellChatDB, search = \"Secreted Signaling\")\n",
    "    cellchat@DB <- CellChatDB.use\n",
    "    cellchat <- subsetData(cellchat)\n",
    "    cellchat <- identifyOverExpressedGenes(cellchat)\n",
    "    cellchat <- identifyOverExpressedInteractions(cellchat)\n",
    "    cellchat <- computeCommunProb(cellchat, type = \"triMean\", trim = NULL, raw.use = TRUE)\n",
    "    cellchat <- filterCommunication(cellchat, min.cells = 10)\n",
    "    cellchat <- computeCommunProbPathway(cellchat)\n",
    "    cellchat <- aggregateNet(cellchat)\n",
    "    cellchat\n",
    "}"
   ]
  },
  {
   "cell_type": "code",
<<<<<<< HEAD
   "execution_count": 10,
   "id": "be90e2fe-5c01-4545-b605-3a2450ce6768",
   "metadata": {
    "scrolled": true
   },
=======
   "execution_count": 6,
   "id": "be90e2fe-5c01-4545-b605-3a2450ce6768",
   "metadata": {},
>>>>>>> fab3f6bb655aedc8f5f66436b10ac6c834c3f009
   "outputs": [
    {
     "name": "stderr",
     "output_type": "stream",
     "text": [
      "R_zmq_msg_send errno: 4 strerror: Interrupted system call\n",
      "[1] \"Create a CellChat object from a data matrix\"\n",
      "R_zmq_msg_send errno: 4 strerror: Interrupted system call\n",
      "Set cell identities for the new CellChat object \n",
      "The cell groups used for CellChat analysis are  CD103+ cDC, Epithelial, Fibroblasts, Granulocytes, Macrophages, NK Cells, T-Cells \n",
      "The number of highly variable ligand-receptor pairs used for signaling inference is 817 \n",
      "triMean is used for calculating the average gene expression per cell group. \n",
<<<<<<< HEAD
      "[1] \">>> Run CellChat on sc/snRNA-seq data <<< [2024-11-13 00:14:12]\"\n",
      "  |======================================================================| 100%\n",
      "[1] \">>> CellChat inference is done. Parameter values are stored in `object@options$parameter` <<< [2024-11-13 00:17:35]\"\n",
=======
      "[1] \">>> Run CellChat on sc/snRNA-seq data <<< [2024-11-01 21:39:19.758716]\"\n",
      "  |======================================================================| 100%\n",
      "[1] \">>> CellChat inference is done. Parameter values are stored in `object@options$parameter` <<< [2024-11-01 21:42:37.141174]\"\n",
>>>>>>> fab3f6bb655aedc8f5f66436b10ac6c834c3f009
      "[1] \"Create a CellChat object from a data matrix\"\n",
      "R_zmq_msg_send errno: 4 strerror: Interrupted system call\n",
      "Set cell identities for the new CellChat object \n",
      "The cell groups used for CellChat analysis are  CD103+ cDC, Epithelial, Fibroblasts, Granulocytes, Macrophages, NK Cells, T-Cells \n",
      "The number of highly variable ligand-receptor pairs used for signaling inference is 849 \n",
      "triMean is used for calculating the average gene expression per cell group. \n",
<<<<<<< HEAD
      "[1] \">>> Run CellChat on sc/snRNA-seq data <<< [2024-11-13 00:17:51]\"\n",
      "  |======================================================================| 100%\n",
      "[1] \">>> CellChat inference is done. Parameter values are stored in `object@options$parameter` <<< [2024-11-13 00:21:34]\"\n",
=======
      "[1] \">>> Run CellChat on sc/snRNA-seq data <<< [2024-11-01 21:42:52.49858]\"\n",
      "  |======================================================================| 100%\n",
      "[1] \">>> CellChat inference is done. Parameter values are stored in `object@options$parameter` <<< [2024-11-01 21:46:28.571683]\"\n",
>>>>>>> fab3f6bb655aedc8f5f66436b10ac6c834c3f009
      "\n",
      "\n",
      "R_zmq_msg_send errno: 4 strerror: Interrupted system call\n",
      "[1] \"Create a CellChat object from a data matrix\"\n",
      "R_zmq_msg_send errno: 4 strerror: Interrupted system call\n",
      "Set cell identities for the new CellChat object \n",
      "The cell groups used for CellChat analysis are  CD103+ cDC, Epithelial, Fibroblasts, Granulocytes, Macrophages, NK Cells, T-Cells \n",
      "The number of highly variable ligand-receptor pairs used for signaling inference is 815 \n",
      "triMean is used for calculating the average gene expression per cell group. \n",
<<<<<<< HEAD
      "[1] \">>> Run CellChat on sc/snRNA-seq data <<< [2024-11-13 00:14:12]\"\n",
      "  |======================================================================| 100%\n",
      "[1] \">>> CellChat inference is done. Parameter values are stored in `object@options$parameter` <<< [2024-11-13 00:17:52]\"\n",
=======
      "[1] \">>> Run CellChat on sc/snRNA-seq data <<< [2024-11-01 21:39:18.665517]\"\n",
      "  |======================================================================| 100%\n",
      "[1] \">>> CellChat inference is done. Parameter values are stored in `object@options$parameter` <<< [2024-11-01 21:42:50.486782]\"\n",
>>>>>>> fab3f6bb655aedc8f5f66436b10ac6c834c3f009
      "[1] \"Create a CellChat object from a data matrix\"\n",
      "R_zmq_msg_send errno: 4 strerror: Interrupted system call\n",
      "Set cell identities for the new CellChat object \n",
      "The cell groups used for CellChat analysis are  CD103+ cDC, Epithelial, Fibroblasts, Granulocytes, Macrophages, NK Cells, T-Cells \n",
      "The number of highly variable ligand-receptor pairs used for signaling inference is 836 \n",
      "triMean is used for calculating the average gene expression per cell group. \n",
<<<<<<< HEAD
      "[1] \">>> Run CellChat on sc/snRNA-seq data <<< [2024-11-13 00:18:02]\"\n",
      "  |======================================================================| 100%\n",
      "[1] \">>> CellChat inference is done. Parameter values are stored in `object@options$parameter` <<< [2024-11-13 00:21:36]\"\n",
=======
      "[1] \">>> Run CellChat on sc/snRNA-seq data <<< [2024-11-01 21:43:00.705867]\"\n",
      "  |======================================================================| 100%\n",
      "[1] \">>> CellChat inference is done. Parameter values are stored in `object@options$parameter` <<< [2024-11-01 21:46:29.703454]\"\n",
>>>>>>> fab3f6bb655aedc8f5f66436b10ac6c834c3f009
      "\n",
      "\n"
     ]
    }
   ],
   "source": [
    "cellchat_objs <- bplapply(cond, FUN=runCellChat, BPPARAM = MulticoreParam(2))\n"
   ]
  },
  {
   "cell_type": "code",
<<<<<<< HEAD
   "execution_count": 11,
=======
   "execution_count": 7,
>>>>>>> fab3f6bb655aedc8f5f66436b10ac6c834c3f009
   "id": "4f7c5b5d-1659-4730-96d9-87fea1766fbb",
   "metadata": {},
   "outputs": [],
   "source": [
    "saveRDS(file = \"h5ad/cellchat/individ_cellchat.RData\", object = cellchat_objs)"
   ]
  }
 ],
 "metadata": {
  "kernelspec": {
   "display_name": "R",
   "language": "R",
   "name": "ir"
  },
  "language_info": {
   "codemirror_mode": "r",
   "file_extension": ".r",
   "mimetype": "text/x-r-source",
   "name": "R",
   "pygments_lexer": "r",
<<<<<<< HEAD
   "version": "4.2.3"
=======
   "version": "4.4.1"
>>>>>>> fab3f6bb655aedc8f5f66436b10ac6c834c3f009
  }
 },
 "nbformat": 4,
 "nbformat_minor": 5
}
