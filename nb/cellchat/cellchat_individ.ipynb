{
 "cells": [
  {
   "cell_type": "code",
   "execution_count": 5,
   "id": "7f8efb9f-c273-4bb2-9b92-8916bc20a26e",
   "metadata": {},
   "outputs": [],
   "source": [
    "library(Seurat)\n",
    "library(ggplot2)\n",
    "library(CellChat)\n",
    "library(BiocParallel)\n",
    "setwd(\"/data/TAK_981\")"
   ]
  },
  {
   "cell_type": "code",
   "execution_count": 6,
   "id": "843e5301-8b9c-4ee9-bc06-e0f61f1045b2",
   "metadata": {},
   "outputs": [],
   "source": [
    "adata <-schard::h5ad2seurat('h5ad/batch_corrected.h5ad', use.raw = TRUE)\n"
   ]
  },
  {
   "cell_type": "code",
   "execution_count": 7,
   "id": "a95d7cad-d958-489f-b37d-8ff5eb46e8c7",
   "metadata": {},
   "outputs": [],
   "source": [
    "Idents(adata) <- \"annot\"\n",
    "adata <- subset(adata, idents = c(\"Acinar\", \"B Cells\", \"RBC\"), invert=TRUE)"
   ]
  },
  {
   "cell_type": "code",
   "execution_count": 8,
   "id": "ee68edae-f9eb-403e-9703-205269febc53",
   "metadata": {},
   "outputs": [],
   "source": [
    "cond<-SplitObject(adata, split.by = \"condition\")"
   ]
  },
  {
   "cell_type": "code",
   "execution_count": 9,
   "id": "ed7c4dfb-33f3-48a8-bb3c-f54266a38952",
   "metadata": {},
   "outputs": [],
   "source": [
    "runCellChat <- function(subset_ad){\n",
    "    assay <- GetAssayData(subset_ad, assay = \"RNA\", slot = \"counts\")\n",
    "    assay <- normalizeData(assay)\n",
    "    Idents(subset_ad) <- \"annot\"\n",
    "    labels <- Idents(subset_ad)\n",
    "    meta <- subset_ad[[]]\n",
    "    meta$samples <- meta$sample_id\n",
    "    meta$labels <- meta$annot\n",
    "    rm(subset_ad)\n",
    "    cellchat <- createCellChat(object = assay, group.by = \"annot\", meta=meta)\n",
    "    CellChatDB <- CellChatDB.mouse\n",
    "    CellChatDB.use <- subsetDB(CellChatDB, search = \"Secreted Signaling\")\n",
    "    cellchat@DB <- CellChatDB.use\n",
    "    cellchat <- subsetData(cellchat)\n",
    "    cellchat <- identifyOverExpressedGenes(cellchat)\n",
    "    cellchat <- identifyOverExpressedInteractions(cellchat)\n",
    "    cellchat <- computeCommunProb(cellchat, type = \"triMean\", trim = NULL, raw.use = TRUE)\n",
    "    cellchat <- filterCommunication(cellchat, min.cells = 10)\n",
    "    cellchat <- computeCommunProbPathway(cellchat)\n",
    "    cellchat <- aggregateNet(cellchat)\n",
    "    cellchat\n",
    "}"
   ]
  },
  {
   "cell_type": "code",
   "execution_count": 10,
   "id": "be90e2fe-5c01-4545-b605-3a2450ce6768",
   "metadata": {
    "scrolled": true
   },
   "outputs": [
    {
     "name": "stderr",
     "output_type": "stream",
     "text": [
      "R_zmq_msg_send errno: 4 strerror: Interrupted system call\n",
      "[1] \"Create a CellChat object from a data matrix\"\n",
      "R_zmq_msg_send errno: 4 strerror: Interrupted system call\n",
      "Set cell identities for the new CellChat object \n",
      "The cell groups used for CellChat analysis are  CD103+ cDC, Epithelial, Fibroblasts, Granulocytes, Macrophages, NK Cells, T-Cells \n",
      "The number of highly variable ligand-receptor pairs used for signaling inference is 817 \n",
      "triMean is used for calculating the average gene expression per cell group. \n",
      "[1] \">>> Run CellChat on sc/snRNA-seq data <<< [2024-11-13 00:14:12]\"\n",
      "  |======================================================================| 100%\n",
      "[1] \">>> CellChat inference is done. Parameter values are stored in `object@options$parameter` <<< [2024-11-13 00:17:35]\"\n",
      "[1] \"Create a CellChat object from a data matrix\"\n",
      "R_zmq_msg_send errno: 4 strerror: Interrupted system call\n",
      "Set cell identities for the new CellChat object \n",
      "The cell groups used for CellChat analysis are  CD103+ cDC, Epithelial, Fibroblasts, Granulocytes, Macrophages, NK Cells, T-Cells \n",
      "The number of highly variable ligand-receptor pairs used for signaling inference is 849 \n",
      "triMean is used for calculating the average gene expression per cell group. \n",
      "[1] \">>> Run CellChat on sc/snRNA-seq data <<< [2024-11-13 00:17:51]\"\n",
      "  |======================================================================| 100%\n",
      "[1] \">>> CellChat inference is done. Parameter values are stored in `object@options$parameter` <<< [2024-11-13 00:21:34]\"\n",
      "\n",
      "\n",
      "R_zmq_msg_send errno: 4 strerror: Interrupted system call\n",
      "[1] \"Create a CellChat object from a data matrix\"\n",
      "R_zmq_msg_send errno: 4 strerror: Interrupted system call\n",
      "Set cell identities for the new CellChat object \n",
      "The cell groups used for CellChat analysis are  CD103+ cDC, Epithelial, Fibroblasts, Granulocytes, Macrophages, NK Cells, T-Cells \n",
      "The number of highly variable ligand-receptor pairs used for signaling inference is 815 \n",
      "triMean is used for calculating the average gene expression per cell group. \n",
      "[1] \">>> Run CellChat on sc/snRNA-seq data <<< [2024-11-13 00:14:12]\"\n",
      "  |======================================================================| 100%\n",
      "[1] \">>> CellChat inference is done. Parameter values are stored in `object@options$parameter` <<< [2024-11-13 00:17:52]\"\n",
      "[1] \"Create a CellChat object from a data matrix\"\n",
      "R_zmq_msg_send errno: 4 strerror: Interrupted system call\n",
      "Set cell identities for the new CellChat object \n",
      "The cell groups used for CellChat analysis are  CD103+ cDC, Epithelial, Fibroblasts, Granulocytes, Macrophages, NK Cells, T-Cells \n",
      "The number of highly variable ligand-receptor pairs used for signaling inference is 836 \n",
      "triMean is used for calculating the average gene expression per cell group. \n",
      "[1] \">>> Run CellChat on sc/snRNA-seq data <<< [2024-11-13 00:18:02]\"\n",
      "  |======================================================================| 100%\n",
      "[1] \">>> CellChat inference is done. Parameter values are stored in `object@options$parameter` <<< [2024-11-13 00:21:36]\"\n",
      "\n",
      "\n"
     ]
    }
   ],
   "source": [
    "cellchat_objs <- bplapply(cond, FUN=runCellChat, BPPARAM = MulticoreParam(2))\n"
   ]
  },
  {
   "cell_type": "code",
   "execution_count": 11,
   "id": "4f7c5b5d-1659-4730-96d9-87fea1766fbb",
   "metadata": {},
   "outputs": [],
   "source": [
    "saveRDS(file = \"h5ad/cellchat/individ_cellchat.RData\", object = cellchat_objs)"
   ]
  }
 ],
 "metadata": {
  "kernelspec": {
   "display_name": "R",
   "language": "R",
   "name": "ir"
  },
  "language_info": {
   "codemirror_mode": "r",
   "file_extension": ".r",
   "mimetype": "text/x-r-source",
   "name": "R",
   "pygments_lexer": "r",
   "version": "4.2.3"
  }
 },
 "nbformat": 4,
 "nbformat_minor": 5
}
