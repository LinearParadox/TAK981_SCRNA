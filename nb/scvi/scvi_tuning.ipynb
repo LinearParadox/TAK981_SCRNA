{
 "cells": [
  {
   "cell_type": "code",
   "execution_count": 1,
   "id": "fe07f045-1463-41cc-8aa2-6cf7bc98ad9f",
   "metadata": {
    "ExecuteTime": {
     "end_time": "2024-10-24T00:35:31.541631Z",
     "start_time": "2024-10-24T00:35:19.229882Z"
    }
   },
   "outputs": [
    {
     "name": "stderr",
     "output_type": "stream",
     "text": [
      "Seed set to 42\n"
     ]
    }
   ],
   "source": [
    "import scanpy as sc\n",
    "import scanpy.external as sce\n",
    "import tempfile\n",
    "import anndata as ad\n",
    "import os\n",
    "import torch\n",
    "import scvi\n",
    "from glob import glob\n",
    "import ray\n",
    "import matplotlib.pyplot as plt\n",
    "from ray import tune\n",
    "from scvi import autotune\n",
    "scvi.settings.dl_num_worker=25\n",
    "scvi.settings.dl_persistent_workers=True\n",
    "\n",
    "torch.set_float32_matmul_precision('high')\n",
    "scvi.settings.seed = 42\n",
    "os.chdir(\"/data\")\n"
   ]
  },
  {
   "cell_type": "code",
   "execution_count": 2,
   "id": "bbda1197-e6ee-4269-9856-e8c86de096f2",
   "metadata": {
    "ExecuteTime": {
     "end_time": "2024-10-24T00:35:31.583489Z",
     "start_time": "2024-10-24T00:35:31.578751Z"
    }
   },
   "outputs": [],
   "source": [
    "paths = glob(\"cellranger/*/qc_filtered.h5ad\")\n",
    "adata_list=[] #reading files\n",
    "names=[]\n",
    "for n in paths:\n",
    "    adata = sc.read_h5ad(n)\n",
    "    sample = n.split(\"/\")[1]\n",
    "    adata.obs[\"sample_id\"]=sample\n",
    "    adata.obs[\"condition\"]=sample.split(\"-\")[0]\n",
    "    adata_list.append(adata)\n",
    "    sc.pp.filter_genes(adata, min_cells=3)\n",
    "    names.append(sample)"
   ]
  },
  {
   "cell_type": "code",
   "execution_count": 3,
   "id": "d8863968-3beb-41a1-9fd6-7895f603b331",
   "metadata": {
    "ExecuteTime": {
     "end_time": "2024-10-24T00:35:55.978365Z",
     "start_time": "2024-10-24T00:35:55.938896Z"
    }
   },
   "outputs": [
    {
     "data": {
      "text/plain": [
       "4"
      ]
     },
     "execution_count": 3,
     "metadata": {},
     "output_type": "execute_result"
    }
   ],
   "source": [
    "torch.cuda.device_count()"
   ]
  },
  {
   "cell_type": "code",
   "execution_count": 4,
   "id": "7110fc66-9732-43d9-82bf-c9e43e1dc275",
   "metadata": {},
   "outputs": [],
   "source": [
    "adata=ad.concat(adata_list, index_unique=\"-\", keys=names) #creating one object"
   ]
  },
  {
   "cell_type": "code",
   "execution_count": 5,
   "id": "4884f0d1-e771-411d-816b-323f230dba8d",
   "metadata": {},
   "outputs": [],
   "source": [
    "del adata_list"
   ]
  },
  {
   "cell_type": "code",
   "execution_count": 6,
   "id": "f725c568-7ca3-4f75-8c9e-5e1200ba3f4e",
   "metadata": {},
   "outputs": [],
   "source": [
    "adata.layers[\"counts\"]=adata.X.copy()"
   ]
  },
  {
   "cell_type": "code",
   "execution_count": 7,
   "id": "49ed82eb-465a-4958-b13c-0b0ccce8b12a",
   "metadata": {
    "ExecuteTime": {
     "start_time": "2024-10-24T00:26:28.227399Z"
    },
    "jupyter": {
     "is_executing": true
    }
   },
   "outputs": [
    {
     "name": "stderr",
     "output_type": "stream",
     "text": [
      "Trainer will use only 1 of 4 GPUs because it is running inside an interactive / notebook environment. You may try to set `Trainer(devices=4)` but please note that multi-GPU inside interactive / notebook environments is considered experimental and unstable. Your mileage may vary.\n"
     ]
    },
    {
     "data": {
      "application/vnd.jupyter.widget-view+json": {
       "model_id": "e4761ccce108481ea35d976720c93d22",
       "version_major": 2,
       "version_minor": 0
      },
      "text/plain": [
       "Sampling from binomial...:   0%|          | 0/10000 [00:00<?, ?it/s]"
      ]
     },
     "metadata": {},
     "output_type": "display_data"
    },
    {
     "data": {
      "application/vnd.jupyter.widget-view+json": {
       "model_id": "95ee7863981947daa4beb1c3cc8d443b",
       "version_major": 2,
       "version_minor": 0
      },
      "text/plain": [
       "Sampling from binomial...:   0%|          | 0/10000 [00:00<?, ?it/s]"
      ]
     },
     "metadata": {},
     "output_type": "display_data"
    },
    {
     "data": {
      "application/vnd.jupyter.widget-view+json": {
       "model_id": "1171d4d3b29e4867b559de8751ef1b28",
       "version_major": 2,
       "version_minor": 0
      },
      "text/plain": [
       "Sampling from binomial...:   0%|          | 0/10000 [00:00<?, ?it/s]"
      ]
     },
     "metadata": {},
     "output_type": "display_data"
    },
    {
     "data": {
      "application/vnd.jupyter.widget-view+json": {
       "model_id": "eed0badc25024ef7b005f7589c9c113f",
       "version_major": 2,
       "version_minor": 0
      },
      "text/plain": [
       "Sampling from binomial...:   0%|          | 0/10000 [00:00<?, ?it/s]"
      ]
     },
     "metadata": {},
     "output_type": "display_data"
    },
    {
     "data": {
      "application/vnd.jupyter.widget-view+json": {
       "model_id": "c44dcb1781544acb9f9d7d318b07d0f4",
       "version_major": 2,
       "version_minor": 0
      },
      "text/plain": [
       "Sampling from binomial...:   0%|          | 0/10000 [00:00<?, ?it/s]"
      ]
     },
     "metadata": {},
     "output_type": "display_data"
    },
    {
     "data": {
      "application/vnd.jupyter.widget-view+json": {
       "model_id": "b5882c261dd443d5bcb733a7662d0642",
       "version_major": 2,
       "version_minor": 0
      },
      "text/plain": [
       "Sampling from binomial...:   0%|          | 0/10000 [00:00<?, ?it/s]"
      ]
     },
     "metadata": {},
     "output_type": "display_data"
    },
    {
     "data": {
      "application/vnd.jupyter.widget-view+json": {
       "model_id": "b43bd1cda5394f899be74042f3a14172",
       "version_major": 2,
       "version_minor": 0
      },
      "text/plain": [
       "Sampling from binomial...:   0%|          | 0/10000 [00:00<?, ?it/s]"
      ]
     },
     "metadata": {},
     "output_type": "display_data"
    },
    {
     "data": {
      "application/vnd.jupyter.widget-view+json": {
       "model_id": "78e00dddf6a44ccd9ae7c07d39f63818",
       "version_major": 2,
       "version_minor": 0
      },
      "text/plain": [
       "Sampling from binomial...:   0%|          | 0/10000 [00:00<?, ?it/s]"
      ]
     },
     "metadata": {},
     "output_type": "display_data"
    }
   ],
   "source": [
    "scvi.data.poisson_gene_selection(adata, layer='counts', n_top_genes=8000, subset=True, batch_key=\"sample_id\") # selecting HVGs using poisson sampling"
   ]
  },
  {
   "cell_type": "code",
   "execution_count": 8,
   "id": "3979039d-6fa6-4b46-92bc-2a652a19c4a1",
   "metadata": {},
   "outputs": [],
   "source": [
    "adata.layers[\"counts\"] = adata.layers[\"counts\"].toarray().copy()"
   ]
  },
  {
   "cell_type": "code",
   "execution_count": 9,
   "id": "17020140-a704-4493-ad04-11cb37854357",
   "metadata": {},
   "outputs": [],
   "source": [
    "model_cls = scvi.model.SCVI\n",
    "\n",
    "model_cls.setup_anndata(adata, layer=\"counts\", batch_key='sample_id')\n",
    "\n",
    "search_space = {\n",
    "    \"model_params\": {\"n_hidden\": tune.choice([64, 128, 256]), \n",
    "                     \"n_layers\": tune.choice([1, 2, 3, 4]),\n",
    "                     \"n_latent\": tune.choice([10, 20, 30, 40, 50]),\n",
    "                     \"gene_likelihood\": tune.choice([\"nb\", \"zinb\"])\n",
    "                    },\n",
    "    \"train_params\": {\"max_epochs\": 100,\n",
    "                     \"plan_kwargs\": {\"lr\": tune.loguniform(1e-4, 1e-2)}}}"
   ]
  },
  {
   "cell_type": "code",
   "execution_count": 10,
   "id": "94864b7d-9a77-454d-a66b-8c44da3ccd8f",
   "metadata": {},
   "outputs": [
    {
     "data": {
      "text/plain": [
       "AnnData object with n_obs × n_vars = 137651 × 8000\n",
       "    obs: 'background_fraction', 'cell_probability', 'cell_size', 'droplet_efficiency', 'n_raw', 'n_cellbender', 'n_genes_by_counts', 'log1p_n_genes_by_counts', 'total_counts', 'log1p_total_counts', 'pct_counts_in_top_50_genes', 'pct_counts_in_top_100_genes', 'pct_counts_in_top_200_genes', 'pct_counts_in_top_500_genes', 'total_counts_mt', 'log1p_total_counts_mt', 'pct_counts_mt', 'vaeda_scores', 'vaeda_calls', 'outlier', 'mt_outlier', 'sample_id', 'condition', '_scvi_batch', '_scvi_labels'\n",
       "    var: 'highly_variable', 'observed_fraction_zeros', 'expected_fraction_zeros', 'prob_zero_enriched_nbatches', 'prob_zero_enrichment', 'prob_zero_enrichment_rank'\n",
       "    uns: 'hvg', '_scvi_uuid', '_scvi_manager_uuid'\n",
       "    obsm: 'cellbender_embedding', 'vaeda_embedding'\n",
       "    layers: 'cellbender', 'raw', 'counts'"
      ]
     },
     "execution_count": 10,
     "metadata": {},
     "output_type": "execute_result"
    }
   ],
   "source": [
    "adata"
   ]
  },
  {
   "cell_type": "code",
   "execution_count": 11,
   "id": "7174082b-15fa-464c-8fd6-b8194d6c725a",
   "metadata": {},
   "outputs": [
    {
     "name": "stderr",
     "output_type": "stream",
     "text": [
      "/home/ubuntu/miniconda3/envs/scanpy/lib/python3.10/subprocess.py:1796: RuntimeWarning: os.fork() was called. os.fork() is incompatible with multithreaded code, and JAX is multithreaded, so this will likely lead to a deadlock.\n",
      "  self.pid = _posixsubprocess.fork_exec(\n",
      "/home/ubuntu/miniconda3/envs/scanpy/lib/python3.10/subprocess.py:1796: RuntimeWarning: os.fork() was called. os.fork() is incompatible with multithreaded code, and JAX is multithreaded, so this will likely lead to a deadlock.\n",
      "  self.pid = _posixsubprocess.fork_exec(\n",
      "2024-10-25 22:24:25,539\tINFO worker.py:1715 -- Started a local Ray instance. View the dashboard at 12.0.0.75:8889 \n"
     ]
    },
    {
     "data": {
      "application/vnd.jupyter.widget-view+json": {
       "model_id": "d05b7aa8e7f04bf5bffdeef3f2ccd2cb",
       "version_major": 2,
       "version_minor": 0
      },
      "text/html": [
       "<div class=\"lm-Widget p-Widget lm-Panel p-Panel jp-Cell-outputWrapper\">\n",
       "    <div style=\"margin-left: 50px;display: flex;flex-direction: row;align-items: center\">\n",
       "        <div class=\"jp-RenderedHTMLCommon\" style=\"display: flex; flex-direction: row;\">\n",
       "  <svg viewBox=\"0 0 567 224\" fill=\"none\" xmlns=\"http://www.w3.org/2000/svg\" style=\"height: 3em;\">\n",
       "    <g clip-path=\"url(#clip0_4338_178347)\">\n",
       "        <path d=\"M341.29 165.561H355.29L330.13 129.051C345.63 123.991 354.21 112.051 354.21 94.2307C354.21 71.3707 338.72 58.1807 311.88 58.1807H271V165.561H283.27V131.661H311.8C314.25 131.661 316.71 131.501 319.01 131.351L341.25 165.561H341.29ZM283.29 119.851V70.0007H311.82C331.3 70.0007 342.34 78.2907 342.34 94.5507C342.34 111.271 331.34 119.861 311.82 119.861L283.29 119.851ZM451.4 138.411L463.4 165.561H476.74L428.74 58.1807H416L367.83 165.561H380.83L392.83 138.411H451.4ZM446.19 126.601H398L422 72.1407L446.24 126.601H446.19ZM526.11 128.741L566.91 58.1807H554.35L519.99 114.181L485.17 58.1807H472.44L514.01 129.181V165.541H526.13V128.741H526.11Z\" fill=\"var(--jp-ui-font-color0)\"/>\n",
       "        <path d=\"M82.35 104.44C84.0187 97.8827 87.8248 92.0678 93.1671 87.9146C98.5094 83.7614 105.083 81.5067 111.85 81.5067C118.617 81.5067 125.191 83.7614 130.533 87.9146C135.875 92.0678 139.681 97.8827 141.35 104.44H163.75C164.476 101.562 165.622 98.8057 167.15 96.2605L127.45 56.5605C121.071 60.3522 113.526 61.6823 106.235 60.3005C98.9443 58.9187 92.4094 54.9203 87.8602 49.0574C83.3109 43.1946 81.0609 35.8714 81.5332 28.4656C82.0056 21.0599 85.1679 14.0819 90.4252 8.8446C95.6824 3.60726 102.672 0.471508 110.08 0.0272655C117.487 -0.416977 124.802 1.86091 130.647 6.4324C136.493 11.0039 140.467 17.5539 141.821 24.8501C143.175 32.1463 141.816 39.6859 138 46.0505L177.69 85.7505C182.31 82.9877 187.58 81.4995 192.962 81.4375C198.345 81.3755 203.648 82.742 208.33 85.3976C213.012 88.0532 216.907 91.9029 219.616 96.5544C222.326 101.206 223.753 106.492 223.753 111.875C223.753 117.258 222.326 122.545 219.616 127.197C216.907 131.848 213.012 135.698 208.33 138.353C203.648 141.009 198.345 142.375 192.962 142.313C187.58 142.251 182.31 140.763 177.69 138L138 177.7C141.808 184.071 143.155 191.614 141.79 198.91C140.424 206.205 136.44 212.75 130.585 217.313C124.731 221.875 117.412 224.141 110.004 223.683C102.596 223.226 95.6103 220.077 90.3621 214.828C85.1139 209.58 81.9647 202.595 81.5072 195.187C81.0497 187.779 83.3154 180.459 87.878 174.605C92.4405 168.751 98.9853 164.766 106.281 163.401C113.576 162.035 121.119 163.383 127.49 167.19L167.19 127.49C165.664 124.941 164.518 122.182 163.79 119.3H141.39C139.721 125.858 135.915 131.673 130.573 135.826C125.231 139.98 118.657 142.234 111.89 142.234C105.123 142.234 98.5494 139.98 93.2071 135.826C87.8648 131.673 84.0587 125.858 82.39 119.3H60C58.1878 126.495 53.8086 132.78 47.6863 136.971C41.5641 141.163 34.1211 142.972 26.7579 142.059C19.3947 141.146 12.6191 137.574 7.70605 132.014C2.79302 126.454 0.0813599 119.29 0.0813599 111.87C0.0813599 104.451 2.79302 97.2871 7.70605 91.7272C12.6191 86.1673 19.3947 82.5947 26.7579 81.6817C34.1211 80.7686 41.5641 82.5781 47.6863 86.7696C53.8086 90.9611 58.1878 97.2456 60 104.44H82.35ZM100.86 204.32C103.407 206.868 106.759 208.453 110.345 208.806C113.93 209.159 117.527 208.258 120.522 206.256C123.517 204.254 125.725 201.276 126.771 197.828C127.816 194.38 127.633 190.677 126.253 187.349C124.874 184.021 122.383 181.274 119.205 179.577C116.027 177.88 112.359 177.337 108.826 178.042C105.293 178.746 102.113 180.654 99.8291 183.44C97.5451 186.226 96.2979 189.718 96.3 193.32C96.2985 195.364 96.7006 197.388 97.4831 199.275C98.2656 201.163 99.4132 202.877 100.86 204.32ZM204.32 122.88C206.868 120.333 208.453 116.981 208.806 113.396C209.159 109.811 208.258 106.214 206.256 103.219C204.254 100.223 201.275 98.0151 197.827 96.97C194.38 95.9249 190.676 96.1077 187.348 97.4873C184.02 98.8669 181.274 101.358 179.577 104.536C177.879 107.714 177.337 111.382 178.041 114.915C178.746 118.448 180.653 121.627 183.439 123.911C186.226 126.195 189.717 127.443 193.32 127.44C195.364 127.443 197.388 127.042 199.275 126.259C201.163 125.476 202.878 124.328 204.32 122.88ZM122.88 19.4205C120.333 16.8729 116.981 15.2876 113.395 14.9347C109.81 14.5817 106.213 15.483 103.218 17.4849C100.223 19.4868 98.0146 22.4654 96.9696 25.9131C95.9245 29.3608 96.1073 33.0642 97.4869 36.3922C98.8665 39.7202 101.358 42.4668 104.535 44.1639C107.713 45.861 111.381 46.4036 114.914 45.6992C118.447 44.9949 121.627 43.0871 123.911 40.301C126.195 37.515 127.442 34.0231 127.44 30.4205C127.44 28.3772 127.038 26.3539 126.255 24.4664C125.473 22.5788 124.326 20.8642 122.88 19.4205ZM19.42 100.86C16.8725 103.408 15.2872 106.76 14.9342 110.345C14.5813 113.93 15.4826 117.527 17.4844 120.522C19.4863 123.518 22.4649 125.726 25.9127 126.771C29.3604 127.816 33.0638 127.633 36.3918 126.254C39.7198 124.874 42.4664 122.383 44.1635 119.205C45.8606 116.027 46.4032 112.359 45.6988 108.826C44.9944 105.293 43.0866 102.114 40.3006 99.8296C37.5145 97.5455 34.0227 96.2983 30.42 96.3005C26.2938 96.3018 22.337 97.9421 19.42 100.86ZM100.86 100.86C98.3125 103.408 96.7272 106.76 96.3742 110.345C96.0213 113.93 96.9226 117.527 98.9244 120.522C100.926 123.518 103.905 125.726 107.353 126.771C110.8 127.816 114.504 127.633 117.832 126.254C121.16 124.874 123.906 122.383 125.604 119.205C127.301 116.027 127.843 112.359 127.139 108.826C126.434 105.293 124.527 102.114 121.741 99.8296C118.955 97.5455 115.463 96.2983 111.86 96.3005C109.817 96.299 107.793 96.701 105.905 97.4835C104.018 98.2661 102.303 99.4136 100.86 100.86Z\" fill=\"#00AEEF\"/>\n",
       "    </g>\n",
       "    <defs>\n",
       "        <clipPath id=\"clip0_4338_178347\">\n",
       "            <rect width=\"566.93\" height=\"223.75\" fill=\"white\"/>\n",
       "        </clipPath>\n",
       "    </defs>\n",
       "  </svg>\n",
       "</div>\n",
       "\n",
       "        <table class=\"jp-RenderedHTMLCommon\" style=\"border-collapse: collapse;color: var(--jp-ui-font-color1);font-size: var(--jp-ui-font-size1);\">\n",
       "    <tr>\n",
       "        <td style=\"text-align: left\"><b>Python version:</b></td>\n",
       "        <td style=\"text-align: left\"><b>3.10.13</b></td>\n",
       "    </tr>\n",
       "    <tr>\n",
       "        <td style=\"text-align: left\"><b>Ray version:</b></td>\n",
       "        <td style=\"text-align: left\"><b>2.9.3</b></td>\n",
       "    </tr>\n",
       "    <tr>\n",
       "    <td style=\"text-align: left\"><b>Dashboard:</b></td>\n",
       "    <td style=\"text-align: left\"><b><a href=\"http://12.0.0.75:8889\" target=\"_blank\">http://12.0.0.75:8889</a></b></td>\n",
       "</tr>\n",
       "\n",
       "</table>\n",
       "\n",
       "    </div>\n",
       "</div>\n"
      ],
      "text/plain": [
       "RayContext(dashboard_url='12.0.0.75:8889', python_version='3.10.13', ray_version='2.9.3', ray_commit='62655e11ed76509b78654b60be67bc59f8f3460a', protocol_version=None)"
      ]
     },
     "execution_count": 11,
     "metadata": {},
     "output_type": "execute_result"
    }
   ],
   "source": [
    "ray.init(log_to_driver=False, dashboard_host=\"0.0.0.0\", dashboard_port=8889, include_dashboard=True, runtime_env={\"env_vars\": {\"TORCH_ALLOW_TF32_CUBLAS_OVERRIDE\": \"1\"}}, _temp_dir=\"/opt/dlami/nvme/ray\")"
   ]
  },
  {
   "cell_type": "code",
   "execution_count": null,
   "id": "c56d0275-e537-47fd-ae66-59e793aade46",
   "metadata": {},
   "outputs": [
    {
     "data": {
      "text/html": [
       "<div class=\"tuneStatus\">\n",
       "  <div style=\"display: flex;flex-direction: row\">\n",
       "    <div style=\"display: flex;flex-direction: column;\">\n",
       "      <h3>Tune Status</h3>\n",
       "      <table>\n",
       "<tbody>\n",
       "<tr><td>Current time:</td><td>2024-10-26 01:19:07</td></tr>\n",
       "<tr><td>Running for: </td><td>02:54:37.23        </td></tr>\n",
       "<tr><td>Memory:      </td><td>79.9/181.8 GiB     </td></tr>\n",
       "</tbody>\n",
       "</table>\n",
       "    </div>\n",
       "    <div class=\"vDivider\"></div>\n",
       "    <div class=\"systemInfo\">\n",
       "      <h3>System Info</h3>\n",
       "      Using AsyncHyperBand: num_stopped=69<br>Bracket: Iter 64.000: -5657.815673828125 | Iter 32.000: -5661.87158203125 | Iter 16.000: -5679.68505859375 | Iter 8.000: -5696.52880859375 | Iter 4.000: -5724.86181640625 | Iter 2.000: -5781.434814453125 | Iter 1.000: -5971.8154296875<br>Logical resource usage: 32.0/48 CPUs, 4.0/4 GPUs (0.0/1.0 accelerator_type:L4)\n",
       "    </div>\n",
       "    <div class=\"vDivider\"></div>\n",
       "<div class=\"messages\">\n",
       "  <h3>Messages</h3>\n",
       "  \n",
       "  ... 52 more trials not shown (52 TERMINATED)\n",
       "  \n",
       "</div>\n",
       "<style>\n",
       ".messages {\n",
       "  color: var(--jp-ui-font-color1);\n",
       "  display: flex;\n",
       "  flex-direction: column;\n",
       "  padding-left: 1em;\n",
       "  overflow-y: auto;\n",
       "}\n",
       ".messages h3 {\n",
       "  font-weight: bold;\n",
       "}\n",
       ".vDivider {\n",
       "  border-left-width: var(--jp-border-width);\n",
       "  border-left-color: var(--jp-border-color0);\n",
       "  border-left-style: solid;\n",
       "  margin: 0.5em 1em 0.5em 1em;\n",
       "}\n",
       "</style>\n",
       "\n",
       "  </div>\n",
       "  <div class=\"hDivider\"></div>\n",
       "  <div class=\"trialStatus\">\n",
       "    <h3>Trial Status</h3>\n",
       "    <table>\n",
       "<thead>\n",
       "<tr><th>Trial name         </th><th>status    </th><th>loc            </th><th>model_params/gene_li\n",
       "kelihood     </th><th style=\"text-align: right;\">    model_params/n_hidde\n",
       "n</th><th style=\"text-align: right;\">   model_params/n_laten\n",
       "t</th><th style=\"text-align: right;\">  model_params/n_layer\n",
       "s</th><th style=\"text-align: right;\">    train_params/max_epo\n",
       "chs</th><th style=\"text-align: right;\">            train_params/plan_kw\n",
       "args/lr</th><th style=\"text-align: right;\">  iter</th><th style=\"text-align: right;\">  total time (s)</th><th style=\"text-align: right;\">  validation_loss</th></tr>\n",
       "</thead>\n",
       "<tbody>\n",
       "<tr><td>_trainable_3f0f2181</td><td>RUNNING   </td><td>12.0.0.75:18480</td><td>zinb</td><td style=\"text-align: right;\">256</td><td style=\"text-align: right;\">50</td><td style=\"text-align: right;\">2</td><td style=\"text-align: right;\">100</td><td style=\"text-align: right;\">0.00273047 </td><td style=\"text-align: right;\">     3</td><td style=\"text-align: right;\">         39.2613</td><td style=\"text-align: right;\">          5751.61</td></tr>\n",
       "<tr><td>_trainable_a47aace4</td><td>RUNNING   </td><td>12.0.0.75:18561</td><td>zinb</td><td style=\"text-align: right;\">256</td><td style=\"text-align: right;\">50</td><td style=\"text-align: right;\">2</td><td style=\"text-align: right;\">100</td><td style=\"text-align: right;\">0.0041641  </td><td style=\"text-align: right;\">     3</td><td style=\"text-align: right;\">        119.013 </td><td style=\"text-align: right;\">          5757.92</td></tr>\n",
       "<tr><td>_trainable_4be13cfe</td><td>PENDING   </td><td>               </td><td>zinb</td><td style=\"text-align: right;\">256</td><td style=\"text-align: right;\">50</td><td style=\"text-align: right;\">2</td><td style=\"text-align: right;\">100</td><td style=\"text-align: right;\">0.00321819 </td><td style=\"text-align: right;\">      </td><td style=\"text-align: right;\">                </td><td style=\"text-align: right;\">                 </td></tr>\n",
       "<tr><td>_trainable_0a098449</td><td>TERMINATED</td><td>12.0.0.75:18480</td><td>nb  </td><td style=\"text-align: right;\">256</td><td style=\"text-align: right;\">40</td><td style=\"text-align: right;\">2</td><td style=\"text-align: right;\">100</td><td style=\"text-align: right;\">0.000642181</td><td style=\"text-align: right;\">     1</td><td style=\"text-align: right;\">         14.1751</td><td style=\"text-align: right;\">          6133.52</td></tr>\n",
       "<tr><td>_trainable_0a5ab68c</td><td>TERMINATED</td><td>12.0.0.75:18480</td><td>zinb</td><td style=\"text-align: right;\">256</td><td style=\"text-align: right;\">50</td><td style=\"text-align: right;\">2</td><td style=\"text-align: right;\">100</td><td style=\"text-align: right;\">0.000817868</td><td style=\"text-align: right;\">     1</td><td style=\"text-align: right;\">         14.7179</td><td style=\"text-align: right;\">          6071.12</td></tr>\n",
       "<tr><td>_trainable_0b05f8ab</td><td>TERMINATED</td><td>12.0.0.75:18480</td><td>zinb</td><td style=\"text-align: right;\">128</td><td style=\"text-align: right;\">20</td><td style=\"text-align: right;\">1</td><td style=\"text-align: right;\">100</td><td style=\"text-align: right;\">0.000624557</td><td style=\"text-align: right;\">     1</td><td style=\"text-align: right;\">         93.0779</td><td style=\"text-align: right;\">          6169.95</td></tr>\n",
       "<tr><td>_trainable_0b369d4a</td><td>TERMINATED</td><td>12.0.0.75:18561</td><td>zinb</td><td style=\"text-align: right;\"> 64</td><td style=\"text-align: right;\">10</td><td style=\"text-align: right;\">4</td><td style=\"text-align: right;\">100</td><td style=\"text-align: right;\">0.00119812 </td><td style=\"text-align: right;\">     1</td><td style=\"text-align: right;\">         15.5016</td><td style=\"text-align: right;\">          6215.79</td></tr>\n",
       "<tr><td>_trainable_0cf59b85</td><td>TERMINATED</td><td>12.0.0.75:18561</td><td>zinb</td><td style=\"text-align: right;\">256</td><td style=\"text-align: right;\">20</td><td style=\"text-align: right;\">1</td><td style=\"text-align: right;\">100</td><td style=\"text-align: right;\">0.00869011 </td><td style=\"text-align: right;\">    32</td><td style=\"text-align: right;\">        337.477 </td><td style=\"text-align: right;\">          5679.8 </td></tr>\n",
       "<tr><td>_trainable_0dbb23cb</td><td>TERMINATED</td><td>12.0.0.75:18480</td><td>zinb</td><td style=\"text-align: right;\">256</td><td style=\"text-align: right;\">50</td><td style=\"text-align: right;\">2</td><td style=\"text-align: right;\">100</td><td style=\"text-align: right;\">0.000224682</td><td style=\"text-align: right;\">     1</td><td style=\"text-align: right;\">         15.0754</td><td style=\"text-align: right;\">          6300.78</td></tr>\n",
       "<tr><td>_trainable_0ebfcc90</td><td>TERMINATED</td><td>12.0.0.75:18561</td><td>zinb</td><td style=\"text-align: right;\"> 64</td><td style=\"text-align: right;\">10</td><td style=\"text-align: right;\">2</td><td style=\"text-align: right;\">100</td><td style=\"text-align: right;\">0.000101686</td><td style=\"text-align: right;\">     1</td><td style=\"text-align: right;\">         13.9812</td><td style=\"text-align: right;\">          6859.92</td></tr>\n",
       "<tr><td>_trainable_112f47e9</td><td>TERMINATED</td><td>12.0.0.75:18561</td><td>zinb</td><td style=\"text-align: right;\">256</td><td style=\"text-align: right;\">50</td><td style=\"text-align: right;\">2</td><td style=\"text-align: right;\">100</td><td style=\"text-align: right;\">0.00233355 </td><td style=\"text-align: right;\">     4</td><td style=\"text-align: right;\">         50.1872</td><td style=\"text-align: right;\">          5725.55</td></tr>\n",
       "<tr><td>_trainable_11600fcf</td><td>TERMINATED</td><td>12.0.0.75:18480</td><td>nb  </td><td style=\"text-align: right;\"> 64</td><td style=\"text-align: right;\">30</td><td style=\"text-align: right;\">1</td><td style=\"text-align: right;\">100</td><td style=\"text-align: right;\">0.00187961 </td><td style=\"text-align: right;\">     1</td><td style=\"text-align: right;\">         92.1748</td><td style=\"text-align: right;\">          6030.63</td></tr>\n",
       "<tr><td>_trainable_1398183b</td><td>TERMINATED</td><td>12.0.0.75:18480</td><td>zinb</td><td style=\"text-align: right;\">256</td><td style=\"text-align: right;\">50</td><td style=\"text-align: right;\">2</td><td style=\"text-align: right;\">100</td><td style=\"text-align: right;\">0.00132404 </td><td style=\"text-align: right;\">     2</td><td style=\"text-align: right;\">         26.981 </td><td style=\"text-align: right;\">          5828.7 </td></tr>\n",
       "<tr><td>_trainable_16cf5971</td><td>TERMINATED</td><td>12.0.0.75:18561</td><td>nb  </td><td style=\"text-align: right;\">128</td><td style=\"text-align: right;\">30</td><td style=\"text-align: right;\">1</td><td style=\"text-align: right;\">100</td><td style=\"text-align: right;\">0.00122125 </td><td style=\"text-align: right;\">     1</td><td style=\"text-align: right;\">         92.689 </td><td style=\"text-align: right;\">          6057.36</td></tr>\n",
       "<tr><td>_trainable_1c8fb491</td><td>TERMINATED</td><td>12.0.0.75:18480</td><td>zinb</td><td style=\"text-align: right;\">128</td><td style=\"text-align: right;\">30</td><td style=\"text-align: right;\">2</td><td style=\"text-align: right;\">100</td><td style=\"text-align: right;\">0.00397289 </td><td style=\"text-align: right;\">   100</td><td style=\"text-align: right;\">       1034.27  </td><td style=\"text-align: right;\">          5684.68</td></tr>\n",
       "<tr><td>_trainable_1ddd5ca6</td><td>TERMINATED</td><td>12.0.0.75:18561</td><td>zinb</td><td style=\"text-align: right;\">256</td><td style=\"text-align: right;\">50</td><td style=\"text-align: right;\">2</td><td style=\"text-align: right;\">100</td><td style=\"text-align: right;\">0.000305292</td><td style=\"text-align: right;\">     1</td><td style=\"text-align: right;\">         14.7601</td><td style=\"text-align: right;\">          6251.46</td></tr>\n",
       "<tr><td>_trainable_214ffc9a</td><td>TERMINATED</td><td>12.0.0.75:18480</td><td>zinb</td><td style=\"text-align: right;\">128</td><td style=\"text-align: right;\">50</td><td style=\"text-align: right;\">2</td><td style=\"text-align: right;\">100</td><td style=\"text-align: right;\">0.00386613 </td><td style=\"text-align: right;\">     2</td><td style=\"text-align: right;\">        105.007 </td><td style=\"text-align: right;\">          5798.42</td></tr>\n",
       "<tr><td>_trainable_24332e10</td><td>TERMINATED</td><td>12.0.0.75:18561</td><td>zinb</td><td style=\"text-align: right;\">128</td><td style=\"text-align: right;\">40</td><td style=\"text-align: right;\">4</td><td style=\"text-align: right;\">100</td><td style=\"text-align: right;\">0.00066101 </td><td style=\"text-align: right;\">   100</td><td style=\"text-align: right;\">       1218.08  </td><td style=\"text-align: right;\">          5712.83</td></tr>\n",
       "<tr><td>_trainable_28c7a664</td><td>TERMINATED</td><td>12.0.0.75:18480</td><td>zinb</td><td style=\"text-align: right;\">128</td><td style=\"text-align: right;\">40</td><td style=\"text-align: right;\">2</td><td style=\"text-align: right;\">100</td><td style=\"text-align: right;\">0.00277131 </td><td style=\"text-align: right;\">     2</td><td style=\"text-align: right;\">         24.3476</td><td style=\"text-align: right;\">          5816.5 </td></tr>\n",
       "<tr><td>_trainable_2969e536</td><td>TERMINATED</td><td>12.0.0.75:18561</td><td>zinb</td><td style=\"text-align: right;\">256</td><td style=\"text-align: right;\">10</td><td style=\"text-align: right;\">3</td><td style=\"text-align: right;\">100</td><td style=\"text-align: right;\">0.00162488 </td><td style=\"text-align: right;\">     2</td><td style=\"text-align: right;\">        107.886 </td><td style=\"text-align: right;\">          5826.6 </td></tr>\n",
       "</tbody>\n",
       "</table>\n",
       "  </div>\n",
       "</div>\n",
       "<style>\n",
       ".tuneStatus {\n",
       "  color: var(--jp-ui-font-color1);\n",
       "}\n",
       ".tuneStatus .systemInfo {\n",
       "  display: flex;\n",
       "  flex-direction: column;\n",
       "}\n",
       ".tuneStatus td {\n",
       "  white-space: nowrap;\n",
       "}\n",
       ".tuneStatus .trialStatus {\n",
       "  display: flex;\n",
       "  flex-direction: column;\n",
       "}\n",
       ".tuneStatus h3 {\n",
       "  font-weight: bold;\n",
       "}\n",
       ".tuneStatus .hDivider {\n",
       "  border-bottom-width: var(--jp-border-width);\n",
       "  border-bottom-color: var(--jp-border-color0);\n",
       "  border-bottom-style: solid;\n",
       "}\n",
       ".tuneStatus .vDivider {\n",
       "  border-left-width: var(--jp-border-width);\n",
       "  border-left-color: var(--jp-border-color0);\n",
       "  border-left-style: solid;\n",
       "  margin: 0.5em 1em 0.5em 1em;\n",
       "}\n",
       "</style>\n"
      ],
      "text/plain": [
       "<IPython.core.display.HTML object>"
      ]
     },
     "metadata": {},
     "output_type": "display_data"
    }
   ],
   "source": [
    "results = autotune.run_autotune(\n",
    "    model_cls,\n",
    "    data=adata,\n",
    "    mode=\"min\",\n",
    "    metrics=\"validation_loss\",\n",
    "    search_space=search_space,\n",
    "    num_samples=110,\n",
    "    resources={\"cpu\": 16, \"gpu\": 2},\n",
    "    logging_dir=\"/opt/dlami/nvme\"    \n",
    ")"
   ]
  },
  {
   "cell_type": "code",
   "execution_count": null,
   "id": "d42a519c-61de-41e2-89a2-79eddc6a08d1",
   "metadata": {},
   "outputs": [],
   "source": [
    "df=results.result_grid.get_dataframe()"
   ]
  },
  {
   "cell_type": "code",
   "execution_count": null,
   "id": "65e3f999-753b-4c4e-b97c-8cfb92482ed4",
   "metadata": {},
   "outputs": [],
   "source": [
    "df.to_csv(\"nb/scvi/autotune_results.csv\")"
   ]
  },
  {
   "cell_type": "code",
   "execution_count": null,
   "id": "ebe78b0b-ae16-465a-946c-3f9b3e75b636",
   "metadata": {},
   "outputs": [],
   "source": [
    "ray.shutdown()"
   ]
  },
  {
   "cell_type": "code",
   "execution_count": 15,
   "id": "0d4ed7e3-64c2-4d2c-be58-07a83484b62b",
   "metadata": {},
   "outputs": [
    {
     "data": {
      "text/plain": [
       "Result(\n",
       "  metrics={'validation_loss': 5635.21240234375},\n",
       "  path='/opt/dlami/nvme/scvi_b6a36029-d112-43ab-92af-b4b1ca5f2056/_trainable_58deecf1_27_gene_likelihood=zinb,n_hidden=256,n_latent=50,n_layers=2,max_epochs=100,lr=0.0024_2024-10-26_00-03-45',\n",
       "  filesystem='local',\n",
       "  checkpoint=None\n",
       ")"
      ]
     },
     "execution_count": 15,
     "metadata": {},
     "output_type": "execute_result"
    }
   ],
   "source": [
    "results.result_grid.get_best_result(metric=\"validation_loss\", mode=\"min\")\n",
    "\n",
    "    "
   ]
  },
  {
   "cell_type": "code",
   "execution_count": null,
   "id": "a07669a7-a2a5-44aa-a731-d002b2f3e8c5",
   "metadata": {},
   "outputs": [],
   "source": [
    "import pickle\n",
    "with open('h5ad/data/autotune.pckl', 'wb') as f:\n",
    "  # Dump the data into the file\n",
    "  pickle.dump(results, f)\n"
   ]
  },
  {
   "cell_type": "code",
   "execution_count": null,
   "id": "75256cff-ee60-489c-8abd-04dbd6852e35",
   "metadata": {},
   "outputs": [],
   "source": []
  }
 ],
 "metadata": {
  "kernelspec": {
   "display_name": "Python [conda env:scanpy]",
   "language": "python",
   "name": "conda-env-scanpy-py"
  },
  "language_info": {
   "codemirror_mode": {
    "name": "ipython",
    "version": 3
   },
   "file_extension": ".py",
   "mimetype": "text/x-python",
   "name": "python",
   "nbconvert_exporter": "python",
   "pygments_lexer": "ipython3",
   "version": "3.10.13"
  }
 },
 "nbformat": 4,
 "nbformat_minor": 5
}
