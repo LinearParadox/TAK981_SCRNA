{
 "cells": [
  {
   "cell_type": "code",
   "execution_count": 1,
   "id": "fe07f045-1463-41cc-8aa2-6cf7bc98ad9f",
   "metadata": {},
   "outputs": [],
   "source": [
    "import scanpy as sc\n",
    "import scanpy.external as sce\n",
    "import tempfile\n",
    "import anndata as ad\n",
    "import os\n",
    "import torch\n",
    "import scvi\n",
    "import ray\n",
    "import matplotlib.pyplot as plt\n",
    "from ray import tune\n",
    "from scvi import autotune\n",
    "torch.set_float32_matmul_precision('high')\n",
    "os.chdir(\"/data\")\n"
   ]
  },
  {
   "cell_type": "code",
   "execution_count": 2,
   "id": "bbda1197-e6ee-4269-9856-e8c86de096f2",
   "metadata": {},
   "outputs": [
    {
     "data": {
      "text/plain": [
       "'1.2.0'"
      ]
     },
     "execution_count": 2,
     "metadata": {},
     "output_type": "execute_result"
    }
   ],
   "source": [
    "scvi.__version__"
   ]
  },
  {
   "cell_type": "code",
   "execution_count": 3,
   "id": "d8863968-3beb-41a1-9fd6-7895f603b331",
   "metadata": {},
   "outputs": [
    {
     "data": {
      "text/plain": [
       "True"
      ]
     },
     "execution_count": 3,
     "metadata": {},
     "output_type": "execute_result"
    }
   ],
   "source": [
    "torch.cuda.is_available()"
   ]
  },
  {
   "cell_type": "code",
   "execution_count": 4,
   "id": "ecf9891d-2952-4d9d-bab9-68402edf2aad",
   "metadata": {},
   "outputs": [],
   "source": [
    "adata = sc.read_h5ad(\"h5ad/doublet_filtered.h5ad\")"
   ]
  },
  {
   "cell_type": "code",
   "execution_count": 5,
   "id": "49ed82eb-465a-4958-b13c-0b0ccce8b12a",
   "metadata": {},
   "outputs": [
    {
     "data": {
      "application/vnd.jupyter.widget-view+json": {
       "model_id": "0f985fbdceb34d69acccab6235f70cbc",
       "version_major": 2,
       "version_minor": 0
      },
      "text/plain": [
       "Sampling from binomial...:   0%|          | 0/10000 [00:00<?, ?it/s]"
      ]
     },
     "metadata": {},
     "output_type": "display_data"
    },
    {
     "data": {
      "application/vnd.jupyter.widget-view+json": {
       "model_id": "d8fe3f512fcf4f4eae3e0e72de95bb88",
       "version_major": 2,
       "version_minor": 0
      },
      "text/plain": [
       "Sampling from binomial...:   0%|          | 0/10000 [00:00<?, ?it/s]"
      ]
     },
     "metadata": {},
     "output_type": "display_data"
    },
    {
     "data": {
      "application/vnd.jupyter.widget-view+json": {
       "model_id": "d6b57a0e5fc1496eb4a5aca1704625f3",
       "version_major": 2,
       "version_minor": 0
      },
      "text/plain": [
       "Sampling from binomial...:   0%|          | 0/10000 [00:00<?, ?it/s]"
      ]
     },
     "metadata": {},
     "output_type": "display_data"
    },
    {
     "data": {
      "application/vnd.jupyter.widget-view+json": {
       "model_id": "10e26fef2b5c4c969f2947426dafbeff",
       "version_major": 2,
       "version_minor": 0
      },
      "text/plain": [
       "Sampling from binomial...:   0%|          | 0/10000 [00:00<?, ?it/s]"
      ]
     },
     "metadata": {},
     "output_type": "display_data"
    },
    {
     "data": {
      "application/vnd.jupyter.widget-view+json": {
       "model_id": "2cd28d7289f644aa8a78bbc66bf2124c",
       "version_major": 2,
       "version_minor": 0
      },
      "text/plain": [
       "Sampling from binomial...:   0%|          | 0/10000 [00:00<?, ?it/s]"
      ]
     },
     "metadata": {},
     "output_type": "display_data"
    },
    {
     "data": {
      "application/vnd.jupyter.widget-view+json": {
       "model_id": "0bc7750a20044c90873177d83f3cc065",
       "version_major": 2,
       "version_minor": 0
      },
      "text/plain": [
       "Sampling from binomial...:   0%|          | 0/10000 [00:00<?, ?it/s]"
      ]
     },
     "metadata": {},
     "output_type": "display_data"
    },
    {
     "data": {
      "application/vnd.jupyter.widget-view+json": {
       "model_id": "ebb57ea9b1ec4b5bb831f05134cb8812",
       "version_major": 2,
       "version_minor": 0
      },
      "text/plain": [
       "Sampling from binomial...:   0%|          | 0/10000 [00:00<?, ?it/s]"
      ]
     },
     "metadata": {},
     "output_type": "display_data"
    },
    {
     "data": {
      "application/vnd.jupyter.widget-view+json": {
       "model_id": "69177cfa560945a5ac0965fd80802dd7",
       "version_major": 2,
       "version_minor": 0
      },
      "text/plain": [
       "Sampling from binomial...:   0%|          | 0/10000 [00:00<?, ?it/s]"
      ]
     },
     "metadata": {},
     "output_type": "display_data"
    }
   ],
   "source": [
    "scvi.data.poisson_gene_selection(adata, layer='counts', n_top_genes=8000, subset=True, batch_key=\"sample_id\") # selecting HVGs using poisson sampling"
   ]
  },
  {
   "cell_type": "code",
   "execution_count": 7,
   "id": "17020140-a704-4493-ad04-11cb37854357",
   "metadata": {},
   "outputs": [],
   "source": [
    "model_cls = scvi.model.SCVI\n",
    "\n",
    "model_cls.setup_anndata(adata, layer=\"counts\", batch_key='sample_id')\n",
    "\n",
    "search_space = {\n",
    "    \"model_params\": {\"n_hidden\": tune.choice([64, 128, 256]), \n",
    "                     \"n_layers\": tune.choice([1, 2, 3, 4]),\n",
    "                     \"n_latent\": tune.choice([10, 20, 30, 40, 50]),\n",
    "                     \"gene_likelihood\": tune.choice([\"nb\", \"zinb\"])\n",
    "                    },\n",
    "    \"train_params\": {\"max_epochs\": 100,\n",
    "                     \"plan_kwargs\": {\"lr\": tune.loguniform(1e-4, 1e-2)}}}"
   ]
  },
  {
   "cell_type": "code",
   "execution_count": null,
   "id": "7174082b-15fa-464c-8fd6-b8194d6c725a",
   "metadata": {},
   "outputs": [],
   "source": [
    "ray.init(log_to_driver=False)"
   ]
  },
  {
   "cell_type": "code",
   "execution_count": null,
   "id": "c56d0275-e537-47fd-ae66-59e793aade46",
   "metadata": {},
   "outputs": [
    {
     "data": {
      "text/html": [
       "<div class=\"tuneStatus\">\n",
       "  <div style=\"display: flex;flex-direction: row\">\n",
       "    <div style=\"display: flex;flex-direction: column;\">\n",
       "      <h3>Tune Status</h3>\n",
       "      <table>\n",
       "<tbody>\n",
       "<tr><td>Current time:</td><td>2024-10-08 22:23:11</td></tr>\n",
       "<tr><td>Running for: </td><td>02:16:04.45        </td></tr>\n",
       "<tr><td>Memory:      </td><td>29.6/60.5 GiB      </td></tr>\n",
       "</tbody>\n",
       "</table>\n",
       "    </div>\n",
       "    <div class=\"vDivider\"></div>\n",
       "    <div class=\"systemInfo\">\n",
       "      <h3>System Info</h3>\n",
       "      Using AsyncHyperBand: num_stopped=64<br>Bracket: Iter 64.000: -7599.5546875 | Iter 32.000: -7608.67724609375 | Iter 16.000: -7643.393798828125 | Iter 8.000: -7667.2392578125 | Iter 4.000: -7751.31689453125 | Iter 2.000: -7865.03857421875 | Iter 1.000: -8179.8623046875<br>Logical resource usage: 5.0/8 CPUs, 1.0/1 GPUs (0.0/1.0 accelerator_type:L4)\n",
       "    </div>\n",
       "    <div class=\"vDivider\"></div>\n",
       "<div class=\"messages\">\n",
       "  <h3>Messages</h3>\n",
       "  \n",
       "  ... 46 more trials not shown (46 TERMINATED)\n",
       "  \n",
       "</div>\n",
       "<style>\n",
       ".messages {\n",
       "  color: var(--jp-ui-font-color1);\n",
       "  display: flex;\n",
       "  flex-direction: column;\n",
       "  padding-left: 1em;\n",
       "  overflow-y: auto;\n",
       "}\n",
       ".messages h3 {\n",
       "  font-weight: bold;\n",
       "}\n",
       ".vDivider {\n",
       "  border-left-width: var(--jp-border-width);\n",
       "  border-left-color: var(--jp-border-color0);\n",
       "  border-left-style: solid;\n",
       "  margin: 0.5em 1em 0.5em 1em;\n",
       "}\n",
       "</style>\n",
       "\n",
       "  </div>\n",
       "  <div class=\"hDivider\"></div>\n",
       "  <div class=\"trialStatus\">\n",
       "    <h3>Trial Status</h3>\n",
       "    <table>\n",
       "<thead>\n",
       "<tr><th>Trial name         </th><th>status    </th><th>loc            </th><th>model_params/gene_li\n",
       "kelihood     </th><th style=\"text-align: right;\">    model_params/n_hidde\n",
       "n</th><th style=\"text-align: right;\">   model_params/n_laten\n",
       "t</th><th style=\"text-align: right;\">  model_params/n_layer\n",
       "s</th><th style=\"text-align: right;\">    train_params/max_epo\n",
       "chs</th><th style=\"text-align: right;\">            train_params/plan_kw\n",
       "args/lr</th><th style=\"text-align: right;\">  iter</th><th style=\"text-align: right;\">  total time (s)</th><th style=\"text-align: right;\">  validation_loss</th></tr>\n",
       "</thead>\n",
       "<tbody>\n",
       "<tr><td>_trainable_389046a1</td><td>RUNNING   </td><td>12.0.0.75:12024</td><td>nb  </td><td style=\"text-align: right;\">256</td><td style=\"text-align: right;\">40</td><td style=\"text-align: right;\">2</td><td style=\"text-align: right;\">100</td><td style=\"text-align: right;\">0.00524906 </td><td style=\"text-align: right;\">    11</td><td style=\"text-align: right;\">        72.5345 </td><td style=\"text-align: right;\">          7631.6 </td></tr>\n",
       "<tr><td>_trainable_9ea70b1d</td><td>PENDING   </td><td>               </td><td>nb  </td><td style=\"text-align: right;\">256</td><td style=\"text-align: right;\">40</td><td style=\"text-align: right;\">2</td><td style=\"text-align: right;\">100</td><td style=\"text-align: right;\">0.00225791 </td><td style=\"text-align: right;\">      </td><td style=\"text-align: right;\">                </td><td style=\"text-align: right;\">                 </td></tr>\n",
       "<tr><td>_trainable_0414f233</td><td>TERMINATED</td><td>12.0.0.75:12024</td><td>zinb</td><td style=\"text-align: right;\"> 64</td><td style=\"text-align: right;\">40</td><td style=\"text-align: right;\">2</td><td style=\"text-align: right;\">100</td><td style=\"text-align: right;\">0.000823858</td><td style=\"text-align: right;\">     1</td><td style=\"text-align: right;\">         7.98707</td><td style=\"text-align: right;\">          8507.42</td></tr>\n",
       "<tr><td>_trainable_04dc9c06</td><td>TERMINATED</td><td>12.0.0.75:12024</td><td>zinb</td><td style=\"text-align: right;\">128</td><td style=\"text-align: right;\">20</td><td style=\"text-align: right;\">2</td><td style=\"text-align: right;\">100</td><td style=\"text-align: right;\">0.000539716</td><td style=\"text-align: right;\">     1</td><td style=\"text-align: right;\">         7.44745</td><td style=\"text-align: right;\">          8373.02</td></tr>\n",
       "<tr><td>_trainable_0534e71d</td><td>TERMINATED</td><td>12.0.0.75:12024</td><td>nb  </td><td style=\"text-align: right;\">128</td><td style=\"text-align: right;\">30</td><td style=\"text-align: right;\">1</td><td style=\"text-align: right;\">100</td><td style=\"text-align: right;\">0.00735901 </td><td style=\"text-align: right;\">    16</td><td style=\"text-align: right;\">        89.8206 </td><td style=\"text-align: right;\">          7649.27</td></tr>\n",
       "<tr><td>_trainable_05a0e40c</td><td>TERMINATED</td><td>12.0.0.75:12024</td><td>nb  </td><td style=\"text-align: right;\">256</td><td style=\"text-align: right;\">30</td><td style=\"text-align: right;\">1</td><td style=\"text-align: right;\">100</td><td style=\"text-align: right;\">0.000197739</td><td style=\"text-align: right;\">     1</td><td style=\"text-align: right;\">         6.34256</td><td style=\"text-align: right;\">          8659.28</td></tr>\n",
       "<tr><td>_trainable_0fd454f7</td><td>TERMINATED</td><td>12.0.0.75:12024</td><td>nb  </td><td style=\"text-align: right;\"> 64</td><td style=\"text-align: right;\">10</td><td style=\"text-align: right;\">4</td><td style=\"text-align: right;\">100</td><td style=\"text-align: right;\">0.00276395 </td><td style=\"text-align: right;\">     2</td><td style=\"text-align: right;\">        15.7941 </td><td style=\"text-align: right;\">          8040.75</td></tr>\n",
       "<tr><td>_trainable_10082111</td><td>TERMINATED</td><td>12.0.0.75:12024</td><td>nb  </td><td style=\"text-align: right;\">256</td><td style=\"text-align: right;\">10</td><td style=\"text-align: right;\">2</td><td style=\"text-align: right;\">100</td><td style=\"text-align: right;\">0.000695989</td><td style=\"text-align: right;\">     1</td><td style=\"text-align: right;\">         7.25631</td><td style=\"text-align: right;\">          8478.11</td></tr>\n",
       "<tr><td>_trainable_117a24b7</td><td>TERMINATED</td><td>12.0.0.75:12024</td><td>nb  </td><td style=\"text-align: right;\">256</td><td style=\"text-align: right;\">20</td><td style=\"text-align: right;\">2</td><td style=\"text-align: right;\">100</td><td style=\"text-align: right;\">0.00233862 </td><td style=\"text-align: right;\">     2</td><td style=\"text-align: right;\">        13.7472 </td><td style=\"text-align: right;\">          7894.62</td></tr>\n",
       "<tr><td>_trainable_11e3363e</td><td>TERMINATED</td><td>12.0.0.75:12024</td><td>nb  </td><td style=\"text-align: right;\">256</td><td style=\"text-align: right;\">40</td><td style=\"text-align: right;\">3</td><td style=\"text-align: right;\">100</td><td style=\"text-align: right;\">0.000101841</td><td style=\"text-align: right;\">     1</td><td style=\"text-align: right;\">         7.834  </td><td style=\"text-align: right;\">          8795.93</td></tr>\n",
       "<tr><td>_trainable_1de1af59</td><td>TERMINATED</td><td>12.0.0.75:12024</td><td>nb  </td><td style=\"text-align: right;\">256</td><td style=\"text-align: right;\">40</td><td style=\"text-align: right;\">3</td><td style=\"text-align: right;\">100</td><td style=\"text-align: right;\">0.000116471</td><td style=\"text-align: right;\">     1</td><td style=\"text-align: right;\">         7.9392 </td><td style=\"text-align: right;\">          8775.58</td></tr>\n",
       "<tr><td>_trainable_1ec8e3ea</td><td>TERMINATED</td><td>12.0.0.75:12024</td><td>zinb</td><td style=\"text-align: right;\">128</td><td style=\"text-align: right;\">20</td><td style=\"text-align: right;\">2</td><td style=\"text-align: right;\">100</td><td style=\"text-align: right;\">0.0018274  </td><td style=\"text-align: right;\">     2</td><td style=\"text-align: right;\">        13.8944 </td><td style=\"text-align: right;\">          7875.75</td></tr>\n",
       "<tr><td>_trainable_280fc5f5</td><td>TERMINATED</td><td>12.0.0.75:12024</td><td>nb  </td><td style=\"text-align: right;\">256</td><td style=\"text-align: right;\">30</td><td style=\"text-align: right;\">2</td><td style=\"text-align: right;\">100</td><td style=\"text-align: right;\">0.000442259</td><td style=\"text-align: right;\">     1</td><td style=\"text-align: right;\">         7.31498</td><td style=\"text-align: right;\">          8439.06</td></tr>\n",
       "<tr><td>_trainable_2b80dcbf</td><td>TERMINATED</td><td>12.0.0.75:12024</td><td>zinb</td><td style=\"text-align: right;\"> 64</td><td style=\"text-align: right;\">30</td><td style=\"text-align: right;\">4</td><td style=\"text-align: right;\">100</td><td style=\"text-align: right;\">0.00134511 </td><td style=\"text-align: right;\">     1</td><td style=\"text-align: right;\">         8.22582</td><td style=\"text-align: right;\">          8387.91</td></tr>\n",
       "<tr><td>_trainable_425fae05</td><td>TERMINATED</td><td>12.0.0.75:12024</td><td>nb  </td><td style=\"text-align: right;\">256</td><td style=\"text-align: right;\">40</td><td style=\"text-align: right;\">2</td><td style=\"text-align: right;\">100</td><td style=\"text-align: right;\">0.00292923 </td><td style=\"text-align: right;\">     2</td><td style=\"text-align: right;\">        13.4458 </td><td style=\"text-align: right;\">          7865.04</td></tr>\n",
       "<tr><td>_trainable_430714f6</td><td>TERMINATED</td><td>12.0.0.75:12024</td><td>nb  </td><td style=\"text-align: right;\">256</td><td style=\"text-align: right;\">30</td><td style=\"text-align: right;\">2</td><td style=\"text-align: right;\">100</td><td style=\"text-align: right;\">0.000174153</td><td style=\"text-align: right;\">     1</td><td style=\"text-align: right;\">         7.26862</td><td style=\"text-align: right;\">          8628.71</td></tr>\n",
       "<tr><td>_trainable_46b96699</td><td>TERMINATED</td><td>12.0.0.75:12024</td><td>nb  </td><td style=\"text-align: right;\"> 64</td><td style=\"text-align: right;\">50</td><td style=\"text-align: right;\">2</td><td style=\"text-align: right;\">100</td><td style=\"text-align: right;\">0.000145787</td><td style=\"text-align: right;\">     1</td><td style=\"text-align: right;\">         6.85274</td><td style=\"text-align: right;\">          9088.15</td></tr>\n",
       "<tr><td>_trainable_47250f75</td><td>TERMINATED</td><td>12.0.0.75:12024</td><td>nb  </td><td style=\"text-align: right;\"> 64</td><td style=\"text-align: right;\">50</td><td style=\"text-align: right;\">3</td><td style=\"text-align: right;\">100</td><td style=\"text-align: right;\">0.00121858 </td><td style=\"text-align: right;\">     1</td><td style=\"text-align: right;\">         7.46651</td><td style=\"text-align: right;\">          8447.74</td></tr>\n",
       "<tr><td>_trainable_48f99903</td><td>TERMINATED</td><td>12.0.0.75:12024</td><td>nb  </td><td style=\"text-align: right;\">256</td><td style=\"text-align: right;\">10</td><td style=\"text-align: right;\">2</td><td style=\"text-align: right;\">100</td><td style=\"text-align: right;\">0.00165216 </td><td style=\"text-align: right;\">     2</td><td style=\"text-align: right;\">        13.6712 </td><td style=\"text-align: right;\">          7925   </td></tr>\n",
       "<tr><td>_trainable_4c63ba17</td><td>TERMINATED</td><td>12.0.0.75:12024</td><td>nb  </td><td style=\"text-align: right;\">256</td><td style=\"text-align: right;\">10</td><td style=\"text-align: right;\">1</td><td style=\"text-align: right;\">100</td><td style=\"text-align: right;\">0.00105334 </td><td style=\"text-align: right;\">     1</td><td style=\"text-align: right;\">         6.39171</td><td style=\"text-align: right;\">          8360.83</td></tr>\n",
       "</tbody>\n",
       "</table>\n",
       "  </div>\n",
       "</div>\n",
       "<style>\n",
       ".tuneStatus {\n",
       "  color: var(--jp-ui-font-color1);\n",
       "}\n",
       ".tuneStatus .systemInfo {\n",
       "  display: flex;\n",
       "  flex-direction: column;\n",
       "}\n",
       ".tuneStatus td {\n",
       "  white-space: nowrap;\n",
       "}\n",
       ".tuneStatus .trialStatus {\n",
       "  display: flex;\n",
       "  flex-direction: column;\n",
       "}\n",
       ".tuneStatus h3 {\n",
       "  font-weight: bold;\n",
       "}\n",
       ".tuneStatus .hDivider {\n",
       "  border-bottom-width: var(--jp-border-width);\n",
       "  border-bottom-color: var(--jp-border-color0);\n",
       "  border-bottom-style: solid;\n",
       "}\n",
       ".tuneStatus .vDivider {\n",
       "  border-left-width: var(--jp-border-width);\n",
       "  border-left-color: var(--jp-border-color0);\n",
       "  border-left-style: solid;\n",
       "  margin: 0.5em 1em 0.5em 1em;\n",
       "}\n",
       "</style>\n"
      ],
      "text/plain": [
       "<IPython.core.display.HTML object>"
      ]
     },
     "metadata": {},
     "output_type": "display_data"
    }
   ],
   "source": [
    "results = autotune.run_autotune(\n",
    "    model_cls,\n",
    "    data=adata,\n",
    "    mode=\"min\",\n",
    "    metrics=\"validation_loss\",\n",
    "    search_space=search_space,\n",
    "    num_samples=120,\n",
    "    resources={\"cpu\": 5, \"gpu\": 1},\n",
    "    logging_dir=\"/opt/dlami/nvme\"    \n",
    ")"
   ]
  },
  {
   "cell_type": "code",
   "execution_count": 17,
   "id": "d42a519c-61de-41e2-89a2-79eddc6a08d1",
   "metadata": {},
   "outputs": [],
   "source": [
    "df=results.result_grid.get_dataframe()"
   ]
  },
  {
   "cell_type": "code",
   "execution_count": 18,
   "id": "65e3f999-753b-4c4e-b97c-8cfb92482ed4",
   "metadata": {},
   "outputs": [],
   "source": [
    "df.to_csv(\"nb/scvi/autotune_results.csv\")"
   ]
  }
 ],
 "metadata": {
  "kernelspec": {
   "display_name": "Python [conda env:scanpy]",
   "language": "python",
   "name": "conda-env-scanpy-py"
  },
  "language_info": {
   "codemirror_mode": {
    "name": "ipython",
    "version": 3
   },
   "file_extension": ".py",
   "mimetype": "text/x-python",
   "name": "python",
   "nbconvert_exporter": "python",
   "pygments_lexer": "ipython3",
   "version": "3.10.13"
  }
 },
 "nbformat": 4,
 "nbformat_minor": 5
}
