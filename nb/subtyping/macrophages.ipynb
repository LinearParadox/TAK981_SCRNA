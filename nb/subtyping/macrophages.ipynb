{
 "cells": [
  {
   "cell_type": "code",
   "execution_count": 1,
   "id": "9dbfd31d-629a-4782-b0db-10032177bafa",
   "metadata": {},
   "outputs": [],
   "source": [
    "import scanpy as sc\n",
    "import os\n",
    "import scvi\n",
    "os.chdir(\"/data/TAK_981\")"
   ]
  },
  {
   "cell_type": "code",
   "execution_count": 2,
   "id": "c031baf6-b944-4053-9fc1-603cfec302de",
   "metadata": {},
   "outputs": [],
   "source": [
    "adata = sc.read_h5ad(\"h5ad/batch_corrected.h5ad\")\n",
    "adata = adata.raw.to_adata()\n",
    "adata.layers[\"counts\"] = adata.X.copy()"
   ]
  },
  {
   "cell_type": "code",
   "execution_count": null,
   "id": "8fb020d0-ad79-4da0-a367-a54ede229fb4",
   "metadata": {},
   "outputs": [
    {
     "name": "stderr",
     "output_type": "stream",
     "text": [
      "/home/ubuntu/miniconda3/envs/scanpy/lib/python3.10/site-packages/torch/cuda/__init__.py:619: UserWarning: Can't initialize NVML\n",
      "  warnings.warn(\"Can't initialize NVML\")\n"
     ]
    },
    {
     "data": {
      "application/vnd.jupyter.widget-view+json": {
       "model_id": "29da43615b2143e68bced0ea64985046",
       "version_major": 2,
       "version_minor": 0
      },
      "text/plain": [
       "Sampling from binomial...:   0%|          | 0/10000 [00:00<?, ?it/s]"
      ]
     },
     "metadata": {},
     "output_type": "display_data"
    },
    {
     "data": {
      "application/vnd.jupyter.widget-view+json": {
       "model_id": "54f02b6951de45988203e815bafe910c",
       "version_major": 2,
       "version_minor": 0
      },
      "text/plain": [
       "Sampling from binomial...:   0%|          | 0/10000 [00:00<?, ?it/s]"
      ]
     },
     "metadata": {},
     "output_type": "display_data"
    },
    {
     "data": {
      "application/vnd.jupyter.widget-view+json": {
       "model_id": "1a2956b4deb34d8aa457a9f3193e804a",
       "version_major": 2,
       "version_minor": 0
      },
      "text/plain": [
       "Sampling from binomial...:   0%|          | 0/10000 [00:00<?, ?it/s]"
      ]
     },
     "metadata": {},
     "output_type": "display_data"
    },
    {
     "data": {
      "application/vnd.jupyter.widget-view+json": {
       "model_id": "7e3908cec77840e18459683f5c0af314",
       "version_major": 2,
       "version_minor": 0
      },
      "text/plain": [
       "Sampling from binomial...:   0%|          | 0/10000 [00:00<?, ?it/s]"
      ]
     },
     "metadata": {},
     "output_type": "display_data"
    }
   ],
   "source": [
    "scvi.data.poisson_gene_selection(adata, layer='counts', n_top_genes=6000,\n",
    "                                 subset=True, batch_key=\"sample_id\")"
   ]
  },
  {
   "cell_type": "code",
   "execution_count": null,
   "id": "204a3aee-31f6-4ddd-be48-9f5211cdd216",
   "metadata": {},
   "outputs": [],
   "source": [
    "sc.pp.neighbors(adata, use_rep=\"X_scVI\")\n",
    "sc.tl.umap(adata, min_dist=0.1)\n",
    "sc.tl.leiden(adata, flavor=\"igraph\", n_iterations=2, resolution=0.5)"
   ]
  },
  {
   "cell_type": "code",
   "execution_count": null,
   "id": "dea7d788-a1d6-412c-be5f-1eb0c1cd36a9",
   "metadata": {},
   "outputs": [],
   "source": [
    "sc.pp.normalize_total(adata)\n",
    "sc.pp.log1p(adata)"
   ]
  },
  {
   "cell_type": "code",
   "execution_count": null,
   "id": "5e09dc78-6b9d-4945-909c-5e509816f5da",
   "metadata": {},
   "outputs": [],
   "source": [
    "adata.write_h5ad(\"h5ad/subtyping/macrophages.h5ad\")"
   ]
  },
  {
   "cell_type": "code",
   "execution_count": null,
   "id": "c12e7903-3f12-4bb9-a9b1-4c25e1a2b241",
   "metadata": {},
   "outputs": [],
   "source": [
    "sc.tl.rank_genes_groups(adata, groupby=\"leiden\", method=\"wilcoxon\",\n",
    "                        pts=True, use_raw=False)\n",
    "df = sc.get.rank_genes_groups_df(adata, group=None)"
   ]
  },
  {
   "cell_type": "code",
   "execution_count": null,
   "id": "981f1f81-3024-4021-b47f-b830aba85c2d",
   "metadata": {},
   "outputs": [],
   "source": [
    "df.to_csv(\"csv/subtyping/wilcox_markers_macrophages.csv\")"
   ]
  },
  {
   "cell_type": "code",
   "execution_count": 19,
   "id": "3ddff875-8705-41af-a6c8-3cfcc13f1a20",
   "metadata": {},
   "outputs": [],
   "source": [
    "annot = {\"0\": \"TAM\",\n",
    "         \"1\": \"TAM\",\n",
    "         \"2\": \"TAM\",\n",
    "         \"3\": \"M1\",\n",
    "         \"4\": \"TAM\",\n",
    "         \"5\": \"TAM\"}"
   ]
  },
  {
   "cell_type": "code",
   "execution_count": 20,
   "id": "b4bf2647-dc28-4516-9dd2-4370d35c33fd",
   "metadata": {},
   "outputs": [],
   "source": [
    "adata.obs[\"annot\"] = adata.obs[\"leiden\"].map(annot)"
   ]
  },
  {
   "cell_type": "code",
   "execution_count": 21,
   "id": "fec9871c-d2ff-429e-a2cf-eaadb6fc4d7b",
   "metadata": {},
   "outputs": [],
   "source": [
    "adata.write_h5ad(\"h5ad/subtyping/macrophages.h5ad\")"
   ]
  }
 ],
 "metadata": {
  "kernelspec": {
   "display_name": "Python [conda env:scanpy]",
   "language": "python",
   "name": "conda-env-scanpy-py"
  },
  "language_info": {
   "codemirror_mode": {
    "name": "ipython",
    "version": 3
   },
   "file_extension": ".py",
   "mimetype": "text/x-python",
   "name": "python",
   "nbconvert_exporter": "python",
   "pygments_lexer": "ipython3",
   "version": "3.10.13"
  }
 },
 "nbformat": 4,
 "nbformat_minor": 5
}
