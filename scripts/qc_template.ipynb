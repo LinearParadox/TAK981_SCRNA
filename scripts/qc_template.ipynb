{
 "cells": [
  {
   "cell_type": "code",
   "execution_count": null,
   "id": "44c8e471-387d-465b-bf16-b177b17c9fbc",
   "metadata": {},
   "outputs": [],
   "source": [
    "import scanpy as sc\n",
    "import seaborn as sns\n",
    "import os\n",
    "import numpy as np\n",
    "from matplotlib import pyplot as plt"
   ]
  },
  {
   "cell_type": "code",
   "execution_count": null,
   "id": "8e6fd4fa-ec8e-4882-8089-941f06ec819b",
   "metadata": {},
   "outputs": [],
   "source": [
    "def is_outlier(adata, metric: str, upper: int, lower: int):\n",
    "    M = adata.obs[metric]\n",
    "    outlier = (M < np.percentile(M, lower)) | (\n",
    "        M > np.percentile(M, upper)\n",
    "    )\n",
    "\n",
    "    return outlier\n"
   ]
  },
  {
   "cell_type": "markdown",
   "id": "3741c1a7-26fb-45d9-9193-8847cbc38f37",
   "metadata": {},
   "source": [
    "## QC \n",
    "\n",
    "We graph various aspects of the data such as % mt, counts, and umi. Filtering out cells that are low quality or otherwise impacting analysis. Note doublet detection is done late"
   ]
  },
  {
   "cell_type": "code",
   "execution_count": null,
   "id": "86f12dc1-4c0f-414f-a929-08589c8297ef",
   "metadata": {},
   "outputs": [],
   "source": [
    "adata=sc.read_h5ad(\"doublet_filtered.h5ad\")\n"
   ]
  },
  {
   "cell_type": "code",
   "execution_count": null,
   "id": "b53190df-ef4a-4f4e-a264-a72317e9e6c0",
   "metadata": {},
   "outputs": [],
   "source": [
    "sc.pl.violin(adata, ['n_genes_by_counts', 'total_counts', 'pct_counts_mt'],\n",
    "             jitter=0.4, multi_panel=True)\n",
    "#graphing number of counts, pct mt and genes\n",
    "# NOTE: n_genes_by_counts translates to the number of genes with at least one count in that cell\n",
    "#multi panel so each has its own y axis"
   ]
  },
  {
   "cell_type": "code",
   "execution_count": null,
   "id": "7ee6ce66-2eb6-4f62-9d99-8a234f6ca22d",
   "metadata": {},
   "outputs": [],
   "source": [
    "sc.pl.scatter(adata, \"total_counts\", \"n_genes_by_counts\", color=\"pct_counts_mt\", )"
   ]
  },
  {
   "cell_type": "code",
   "execution_count": null,
   "id": "a75248a2-bd61-403e-a345-5230db27e5d1",
   "metadata": {},
   "outputs": [],
   "source": [
    "sc.pl.scatter(adata, \"total_counts\", \"n_genes_by_counts\", color=\"cell_probability\")#for cellbender computed probs"
   ]
  },
  {
   "cell_type": "code",
   "execution_count": null,
   "id": "06593f50-0df5-477b-9da3-124b36179216",
   "metadata": {},
   "outputs": [],
   "source": [
    "sc.pl.scatter(adata, \"total_counts\", \"n_genes_by_counts\", color=\"vaeda_scores\") #doublet scores"
   ]
  },
  {
   "cell_type": "code",
   "execution_count": null,
   "id": "22eb47d9-8dc8-495b-8307-4c941684ec6b",
   "metadata": {},
   "outputs": [],
   "source": [
    "sc.pl.scatter(adata, \"total_counts\", \"n_genes_by_counts\", color=\"vaeda_calls\") #doublet scores"
   ]
  },
  {
   "cell_type": "code",
   "execution_count": null,
   "id": "967050fa-c8f3-4671-b8c1-39e77d5e327a",
   "metadata": {},
   "outputs": [],
   "source": [
    "adata = adata[adata.obs[\"vaeda_calls\"]==\"singlet\"]"
   ]
  },
  {
   "cell_type": "code",
   "execution_count": null,
   "id": "d438b04d-6229-47bc-834e-a940a7be65e9",
   "metadata": {},
   "outputs": [],
   "source": [
    "percentiles = [1, 2.5, 5, 10, 95, 97.5, 99]\n",
    "p1 = sns.displot(adata.obs[\"log1p_total_counts\"], bins=100, kde=True)\n",
    "for p in percentiles:\n",
    "    plt.axvline(np.percentile(adata.obs[\"log1p_total_counts\"], p), color='r', linestyle='--', label=f'{p}th Percentile')\n"
   ]
  },
  {
   "cell_type": "code",
   "execution_count": null,
   "id": "1b3db4a4-086d-41cb-86e3-3e1bba195ab2",
   "metadata": {},
   "outputs": [],
   "source": [
    "p2 = sns.displot(adata.obs[\"log1p_n_genes_by_counts\"], bins=100, kde=True)\n",
    "for p in percentiles:\n",
    "    plt.axvline(np.percentile(adata.obs[\"log1p_n_genes_by_counts\"], p), color='r', linestyle='--', label=f'{p}th Percentile')"
   ]
  },
  {
   "cell_type": "code",
   "execution_count": null,
   "id": "e878805b-1041-4d25-ade4-293fd78f5f08",
   "metadata": {},
   "outputs": [],
   "source": [
    "p3 = sns.displot(adata.obs[\"n_genes_by_counts\"], bins=100, kde=True)\n",
    "for p in percentiles:\n",
    "    plt.axvline(np.percentile(adata.obs[\"n_genes_by_counts\"], p), color='r', linestyle='--', label=f'{p}th Percentile')"
   ]
  },
  {
   "cell_type": "code",
   "execution_count": null,
   "id": "2c1a90e0-4061-430c-b0a9-26ba9b9f8eeb",
   "metadata": {},
   "outputs": [],
   "source": [
    "percentiles = [50, 90, 95, 97.5, 99]\n",
    "\n",
    "p4 = sns.displot(adata.obs[\"pct_counts_mt\"], bins=100, kde=True)\n",
    "for p in percentiles:\n",
    "    plt.axvline(np.percentile(adata.obs[\"pct_counts_mt\"], p), color='r', linestyle='--', label=f'{p}th Percentile')"
   ]
  },
  {
   "cell_type": "markdown",
   "id": "9be1af5a-eb70-4580-9194-34876ba638bd",
   "metadata": {},
   "source": [
    "$\\text{MAD}=\\text{Median}(|X_i-\\tilde{X}|)$"
   ]
  },
  {
   "cell_type": "code",
   "execution_count": null,
   "id": "33e85ca4-f8e4-4fe1-a3ed-e815668fb823",
   "metadata": {},
   "outputs": [],
   "source": [
    "n_genes_outlier_upper = 97.5\n",
    "counts_outlier_upper = 97.5\n",
    "n_genes_outlier_lower = 2.5\n",
    "counts_outlier_lower = 2.5\n",
    "mt_outlier = 90\n",
    "\n",
    "\n",
    "adata.obs[\"outlier\"] = (\n",
    "    is_outlier(adata, \"log1p_total_counts\", upper=counts_outlier_upper, lower=counts_outlier_lower) | is_outlier(adata, \"log1p_n_genes_by_counts\", upper=n_genes_outlier_upper, lower=n_genes_outlier_lower))\n",
    "adata.obs.outlier.value_counts()"
   ]
  },
  {
   "cell_type": "code",
   "execution_count": null,
   "id": "ee3fa277-2e56-4cce-8195-a036de62df60",
   "metadata": {},
   "outputs": [],
   "source": [
    "adata.obs[\"mt_outlier\"] = ( adata.obs[\"pct_counts_mt\"] > np.percentile(adata.obs[\"pct_counts_mt\"], mt_outlier))\n",
    "adata.obs.mt_outlier.value_counts()"
   ]
  },
  {
   "cell_type": "code",
   "execution_count": null,
   "id": "0d389005-3693-4d1f-b7ce-acf355efcede",
   "metadata": {},
   "outputs": [],
   "source": [
    "print(f\"Total number of cells: {adata.n_obs}\")\n",
    "adata = adata[(~adata.obs.outlier) & (~adata.obs.mt_outlier)].copy()\n",
    "\n",
    "print(f\"Number of cells after filtering of low quality cells: {adata.n_obs}\")"
   ]
  },
  {
   "cell_type": "code",
   "execution_count": null,
   "id": "11ee84a6-8501-46e1-805c-bc71ce2afcb4",
   "metadata": {},
   "outputs": [],
   "source": [
    "p1 = sc.pl.scatter(adata, \"total_counts\", \"n_genes_by_counts\", color=\"pct_counts_mt\")"
   ]
  },
  {
   "cell_type": "code",
   "execution_count": null,
   "id": "4122b82f-a286-47dc-8c3b-7755a871df95",
   "metadata": {},
   "outputs": [],
   "source": [
    "from ipylab import JupyterFrontEnd\n",
    "\n",
    "app = JupyterFrontEnd()\n",
    "app.commands.execute('docmanager:save')\n",
    "#saving so html writes properly"
   ]
  },
  {
   "cell_type": "code",
   "execution_count": null,
   "id": "58d6b471-d1e1-4d87-ad8d-af96ee73c7fe",
   "metadata": {},
   "outputs": [],
   "source": [
    "adata.write_h5ad(\"qc_filtered.h5ad\")\n",
    "os.system('jupyter nbconvert --to html QC.ipynb')"
   ]
  }
 ],
 "metadata": {
  "kernelspec": {
   "display_name": "Python [conda env:scanpy]",
   "language": "python",
   "name": "conda-env-scanpy-py"
  },
  "language_info": {
   "codemirror_mode": {
    "name": "ipython",
    "version": 3
   },
   "file_extension": ".py",
   "mimetype": "text/x-python",
   "name": "python",
   "nbconvert_exporter": "python",
   "pygments_lexer": "ipython3",
   "version": "3.10.13"
  }
 },
 "nbformat": 4,
 "nbformat_minor": 5
}
