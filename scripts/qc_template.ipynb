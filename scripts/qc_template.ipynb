{
 "cells": [
  {
   "cell_type": "code",
   "execution_count": null,
   "id": "44c8e471-387d-465b-bf16-b177b17c9fbc",
   "metadata": {},
   "outputs": [],
   "source": [
    "import scanpy as sc\n",
    "import seaborn as sns\n",
    "import os\n",
    "from scipy.stats import median_abs_deviation\n",
    "import numpy as np\n",
    "from matplotlib import pyplot as plt\n",
    "from cellbender.remove_background.downstream import load_anndata_from_input_and_output"
   ]
  },
  {
   "cell_type": "code",
   "execution_count": null,
   "id": "8e6fd4fa-ec8e-4882-8089-941f06ec819b",
   "metadata": {},
   "outputs": [],
   "source": [
    "def is_outlier(adata, metric: str, nmads=2, upper=None, lower=None):\n",
    "    M = adata.obs[metric]\n",
    "    if upper is not None and lower is not None:\n",
    "        outlier = (M < np.median(M) - lower * median_abs_deviation(M)) | (\n",
    "            np.median(M) + upper * median_abs_deviation(M) < M\n",
    "        )\n",
    "    else:\n",
    "        outlier = (M < np.median(M) - nmads * median_abs_deviation(M)) | (\n",
    "            np.median(M) + nmads * median_abs_deviation(M) < M\n",
    "        )\n",
    "    return outlier\n",
    "#defining a function for median absolute deviation formally defined below:"
   ]
  },
  {
   "cell_type": "markdown",
   "id": "3741c1a7-26fb-45d9-9193-8847cbc38f37",
   "metadata": {},
   "source": [
    "## QC \n",
    "\n",
    "We graph various aspects of the data such as % mt, counts, and umi. Filtering out cells that are low quality or otherwise impacting analysis. Note doublet detection is done late"
   ]
  },
  {
   "cell_type": "code",
   "execution_count": null,
   "id": "b5ac2aec-802c-42ad-9132-e18e3d8f04b8",
   "metadata": {},
   "outputs": [],
   "source": [
    "adata = load_anndata_from_input_and_output(\n",
    "    input_file='raw_feature_bc_matrix.h5',\n",
    "    output_file='cellbender/cellbender.h5',\n",
    "    input_layer_key='raw',  # this will be the raw data layer\n",
    ")\n",
    "adata=adata[adata.obs['cell_probability'] > 0.5] # Keep cells that we are at least 50% confident are real\n",
    "adata.var_names_make_unique() # some genes have duplicated names for some reason, here we make unique\n"
   ]
  },
  {
   "cell_type": "code",
   "execution_count": null,
   "id": "86f12dc1-4c0f-414f-a929-08589c8297ef",
   "metadata": {},
   "outputs": [],
   "source": [
    "adata.var[\"mt\"] = adata.var_names.str.startswith(\"mt-\") # annotates mitochondrial genes \n",
    "sc.pp.calculate_qc_metrics(\n",
    "    adata, qc_vars=[\"mt\"], inplace=True, log1p=True\n",
    ") # calculates qc metrics. add the custom mt, which tells it to calculate the same metrics (counts and such) specifically for mt genes\n",
    "adata"
   ]
  },
  {
   "cell_type": "code",
   "execution_count": null,
   "id": "b53190df-ef4a-4f4e-a264-a72317e9e6c0",
   "metadata": {},
   "outputs": [],
   "source": [
    "sc.pl.violin(adata, ['n_genes_by_counts', 'total_counts', 'pct_counts_mt'],\n",
    "             jitter=0.4, multi_panel=True)\n",
    "#graphing number of counts, pct mt and genes\n",
    "# NOTE: n_genes_by_counts translates to the number of genes with at least one count in that cell\n",
    "#multi panel so each has its own y axis"
   ]
  },
  {
   "cell_type": "code",
   "execution_count": null,
   "id": "7ee6ce66-2eb6-4f62-9d99-8a234f6ca22d",
   "metadata": {},
   "outputs": [],
   "source": [
    "sc.pl.scatter(adata, \"total_counts\", \"n_genes_by_counts\", color=\"pct_counts_mt\", )"
   ]
  },
  {
   "cell_type": "code",
   "execution_count": null,
   "id": "d438b04d-6229-47bc-834e-a940a7be65e9",
   "metadata": {},
   "outputs": [],
   "source": [
    "counts_lower=2\n",
    "counts_upper=2\n",
    "p1 = sns.displot(adata.obs[\"log1p_total_counts\"], bins=100, kde=True)\n",
    "plt.axvline(np.mean(adata.obs[\"log1p_total_counts\"])-counts_lower*median_abs_deviation(adata.obs[\"log1p_total_counts\"]),  color=\"red\")\n",
    "plt.axvline(np.mean(adata.obs[\"log1p_total_counts\"])+counts_upper*median_abs_deviation(adata.obs[\"log1p_total_counts\"]), color=\"red\")\n",
    "\n",
    "#Plotting cutoffs with 2 median absolute reviation cuttoffs"
   ]
  },
  {
   "cell_type": "code",
   "execution_count": null,
   "id": "1b3db4a4-086d-41cb-86e3-3e1bba195ab2",
   "metadata": {},
   "outputs": [],
   "source": [
    "genes_lower=2\n",
    "genes_upper=2\n",
    "\n",
    "p2 = sns.displot(adata.obs[\"log1p_n_genes_by_counts\"], bins=100, kde=True)\n",
    "plt.axvline(np.median(adata.obs[\"log1p_n_genes_by_counts\"])-genes_lower*median_abs_deviation(adata.obs[\"log1p_n_genes_by_counts\"]),  color=\"red\")\n",
    "plt.axvline(np.median(adata.obs[\"log1p_n_genes_by_counts\"])+genes_upper*median_abs_deviation(adata.obs[\"log1p_n_genes_by_counts\"]), color=\"red\")\n",
    "\n",
    "#Plotting cutoffs with 2 median absolute deviation cuttoffs"
   ]
  },
  {
   "cell_type": "markdown",
   "id": "9be1af5a-eb70-4580-9194-34876ba638bd",
   "metadata": {},
   "source": [
    "$\\text{MAD}=\\text{Median}(|X_i-\\tilde{X}|)$"
   ]
  },
  {
   "cell_type": "code",
   "execution_count": null,
   "id": "33e85ca4-f8e4-4fe1-a3ed-e815668fb823",
   "metadata": {},
   "outputs": [],
   "source": [
    "adata.obs[\"outlier\"] = (\n",
    "    is_outlier(adata, \"log1p_total_counts\", upper=counts_upper, lower=counts_lower) | is_outlier(adata, \"log1p_n_genes_by_counts\", upper=genes_upper, lower=genes_lower))\n",
    "adata.obs.outlier.value_counts()"
   ]
  },
  {
   "cell_type": "code",
   "execution_count": null,
   "id": "ee3fa277-2e56-4cce-8195-a036de62df60",
   "metadata": {},
   "outputs": [],
   "source": [
    "adata.obs[\"mt_outlier\"] = ( adata.obs[\"pct_counts_mt\"] > 5)\n",
    "adata.obs.mt_outlier.value_counts()"
   ]
  },
  {
   "cell_type": "code",
   "execution_count": null,
   "id": "0d389005-3693-4d1f-b7ce-acf355efcede",
   "metadata": {},
   "outputs": [],
   "source": [
    "print(f\"Total number of cells: {adata.n_obs}\")\n",
    "adata = adata[(~adata.obs.outlier) & (~adata.obs.mt_outlier)].copy()\n",
    "\n",
    "print(f\"Number of cells after filtering of low quality cells: {adata.n_obs}\")"
   ]
  },
  {
   "cell_type": "code",
   "execution_count": null,
   "id": "11ee84a6-8501-46e1-805c-bc71ce2afcb4",
   "metadata": {},
   "outputs": [],
   "source": [
    "p1 = sc.pl.scatter(adata, \"total_counts\", \"n_genes_by_counts\", color=\"pct_counts_mt\")"
   ]
  },
  {
   "cell_type": "code",
   "execution_count": null,
   "id": "4122b82f-a286-47dc-8c3b-7755a871df95",
   "metadata": {},
   "outputs": [],
   "source": [
    "from ipylab import JupyterFrontEnd\n",
    "\n",
    "app = JupyterFrontEnd()\n",
    "app.commands.execute('docmanager:save')\n",
    "#saving so html writes properly"
   ]
  },
  {
   "cell_type": "code",
   "execution_count": null,
   "id": "58d6b471-d1e1-4d87-ad8d-af96ee73c7fe",
   "metadata": {},
   "outputs": [],
   "source": [
    "adata.write_h5ad(\"qc_filtered.h5ad\")\n",
    "os.system('jupyter nbconvert --to html QC.ipynb')"
   ]
  }
 ],
 "metadata": {
  "kernelspec": {
   "display_name": "Python [conda env:cellbender]",
   "language": "python",
   "name": "conda-env-cellbender-py"
  },
  "language_info": {
   "codemirror_mode": {
    "name": "ipython",
    "version": 3
   },
   "file_extension": ".py",
   "mimetype": "text/x-python",
   "name": "python",
   "nbconvert_exporter": "python",
   "pygments_lexer": "ipython3",
   "version": "3.7.16"
  }
 },
 "nbformat": 4,
 "nbformat_minor": 5
}
